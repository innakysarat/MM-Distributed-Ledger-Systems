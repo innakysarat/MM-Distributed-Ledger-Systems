{
  "nbformat": 4,
  "nbformat_minor": 0,
  "metadata": {
    "colab": {
      "provenance": []
    },
    "kernelspec": {
      "name": "python3",
      "display_name": "Python 3"
    },
    "language_info": {
      "name": "python"
    }
  },
  "cells": [
    {
      "cell_type": "code",
      "source": [
        "# Setup\n",
        "from web3 import Web3"
      ],
      "metadata": {
        "id": "MYpBSnzV4A0N"
      },
      "execution_count": null,
      "outputs": []
    },
    {
      "cell_type": "markdown",
      "source": [
        "Pre-requisite:\n",
        "\n",
        "* (a) Generate 3 Ethereum testnet addresses (address_1, address_2, address_3).\n",
        "* (b) Keep address_1 as your main test address (use the Goerli test network; request test coins from https://goerlifaucet.com/ or any other faucet). You can reuse the already existing address_1, while address_2 and address_3 should be new to the network."
      ],
      "metadata": {
        "id": "GLTM2vr6-egr"
      }
    },
    {
      "cell_type": "code",
      "source": [
        "address_1 = '0xa5C081CDfc71E3c0D7B8fc3644C66561bb698B29'\n",
        "address_2 = '0xc39C06023AFACA979C41a22C93B81Db306C2678f'\n",
        "address_3 = '0xc0D7e1251B82Aa8fAE4E5D0AB5ee8713F8b5be97'\n",
        "\n",
        "pk_1 = 'f049286da578c5cea4b95d89c3e5f77cdab8c8d439ed7ce339fba3bc73b32ca8'"
      ],
      "metadata": {
        "id": "qcjuEjCwKG_9"
      },
      "execution_count": null,
      "outputs": []
    },
    {
      "cell_type": "code",
      "source": [
        "url = 'https://goerli.infura.io/v3/e63d6ca949f544549e1485f1f1c63af7'\n",
        "w3 = Web3(Web3.HTTPProvider(url))\n",
        "\n",
        "# Print if web3 is successfully connected\n",
        "print(w3.isConnected())"
      ],
      "metadata": {
        "colab": {
          "base_uri": "https://localhost:8080/"
        },
        "id": "5OCUgGKp9f0v",
        "outputId": "549d207c-5e16-4df2-8419-1bcc5d736e26"
      },
      "execution_count": null,
      "outputs": [
        {
          "output_type": "stream",
          "name": "stdout",
          "text": [
            "True\n"
          ]
        }
      ]
    },
    {
      "cell_type": "code",
      "source": [
        "def get_balance_ethers(web3, address):\n",
        "    balance = web3.eth.get_balance(address) / 1e18\n",
        "    return web3.fromWei(balance, 'ether')"
      ],
      "metadata": {
        "id": "ZiecJUq4BaVe"
      },
      "execution_count": null,
      "outputs": []
    },
    {
      "cell_type": "code",
      "source": [
        "print('Address 1:', get_balance_ethers(w3, address_1),'Ethers')\n",
        "print('Address 2:', get_balance_ethers(w3, address_2),'Ethers')\n",
        "print('Address 3:', get_balance_ethers(w3, address_3),'Ethers')"
      ],
      "metadata": {
        "colab": {
          "base_uri": "https://localhost:8080/"
        },
        "id": "eIzq8mukJn2w",
        "outputId": "45e515a0-0db4-46a4-c6af-baae6af392a8"
      },
      "execution_count": null,
      "outputs": [
        {
          "output_type": "stream",
          "name": "stdout",
          "text": [
            "Address 1: 1.66442661758210597167106925553525798022747039794921875E-19 Ethers\n",
            "Address 2: 0 Ethers\n",
            "Address 3: 0 Ethers\n"
          ]
        }
      ]
    },
    {
      "cell_type": "markdown",
      "source": [
        "## Task 1 (4 points)\n",
        "### 1.1 (1 point)\n",
        "Deploy ERC20 token smart contract with any reasonable parameters (like name, symbol) from address_1 and allocate (mint) assets to it. \n",
        "\n",
        "Remix and Metamask are allowed."
      ],
      "metadata": {
        "id": "RyhXNu2G8cd-"
      }
    },
    {
      "cell_type": "code",
      "source": [
        "'''\n",
        "// SPDX-License-Identifier: MIT\n",
        "\n",
        "pragma solidity ^0.8.0;\n",
        "\n",
        "import \"@openzeppelin/contracts/token/ERC20/ERC20.sol\";\n",
        "\n",
        "contract MyToken is ERC20 {\n",
        "    constructor(uint256 initialSupply) ERC20(\"My Token\", \"MTK\") {\n",
        "        _mint(msg.sender, initialSupply);\n",
        "    }\n",
        "}\n",
        "'''"
      ],
      "metadata": {
        "id": "XhIaZkh08azM"
      },
      "execution_count": null,
      "outputs": []
    },
    {
      "cell_type": "markdown",
      "source": [
        "Transaction link: https://goerli.etherscan.io/tx/0x0c9c4770ef65266ff721241afa66ae5e892e1e7c3a31fc2ea6c50d7e7e848444\n",
        "\n",
        "Contract link: https://goerli.etherscan.io/address/0x1b96fcf5419a7d617f557d1756770f8a1d3dca06"
      ],
      "metadata": {
        "id": "MFLqDzyi8HZD"
      }
    },
    {
      "cell_type": "code",
      "source": [
        "print('Address 1:', get_balance_ethers(w3, address_1),'Ethers')\n",
        "print('Address 2:', get_balance_ethers(w3, address_2),'Ethers')\n",
        "print('Address 3:', get_balance_ethers(w3, address_3),'Ethers')"
      ],
      "metadata": {
        "colab": {
          "base_uri": "https://localhost:8080/"
        },
        "id": "1bpb83kDAPV4",
        "outputId": "c2b95725-57ec-4562-97e2-13dafa2b13f0"
      },
      "execution_count": null,
      "outputs": [
        {
          "output_type": "stream",
          "name": "stdout",
          "text": [
            "Address 1: 1.518177229304853437241717983852140605449676513671875E-19 Ethers\n",
            "Address 2: 0 Ethers\n",
            "Address 3: 0 Ethers\n"
          ]
        }
      ]
    },
    {
      "cell_type": "code",
      "source": [
        "contract_address = '0x1b96fcF5419a7D617F557D1756770f8a1D3dcA06'\n",
        "contract_abi = '''\n",
        "[\n",
        "\t\t\t{\n",
        "\t\t\t\t\"inputs\": [],\n",
        "\t\t\t\t\"stateMutability\": \"nonpayable\",\n",
        "\t\t\t\t\"type\": \"constructor\"\n",
        "\t\t\t},\n",
        "\t\t\t{\n",
        "\t\t\t\t\"anonymous\": false,\n",
        "\t\t\t\t\"inputs\": [\n",
        "\t\t\t\t\t{\n",
        "\t\t\t\t\t\t\"indexed\": true,\n",
        "\t\t\t\t\t\t\"internalType\": \"address\",\n",
        "\t\t\t\t\t\t\"name\": \"owner\",\n",
        "\t\t\t\t\t\t\"type\": \"address\"\n",
        "\t\t\t\t\t},\n",
        "\t\t\t\t\t{\n",
        "\t\t\t\t\t\t\"indexed\": true,\n",
        "\t\t\t\t\t\t\"internalType\": \"address\",\n",
        "\t\t\t\t\t\t\"name\": \"spender\",\n",
        "\t\t\t\t\t\t\"type\": \"address\"\n",
        "\t\t\t\t\t},\n",
        "\t\t\t\t\t{\n",
        "\t\t\t\t\t\t\"indexed\": false,\n",
        "\t\t\t\t\t\t\"internalType\": \"uint256\",\n",
        "\t\t\t\t\t\t\"name\": \"value\",\n",
        "\t\t\t\t\t\t\"type\": \"uint256\"\n",
        "\t\t\t\t\t}\n",
        "\t\t\t\t],\n",
        "\t\t\t\t\"name\": \"Approval\",\n",
        "\t\t\t\t\"type\": \"event\"\n",
        "\t\t\t},\n",
        "\t\t\t{\n",
        "\t\t\t\t\"anonymous\": false,\n",
        "\t\t\t\t\"inputs\": [\n",
        "\t\t\t\t\t{\n",
        "\t\t\t\t\t\t\"indexed\": true,\n",
        "\t\t\t\t\t\t\"internalType\": \"address\",\n",
        "\t\t\t\t\t\t\"name\": \"from\",\n",
        "\t\t\t\t\t\t\"type\": \"address\"\n",
        "\t\t\t\t\t},\n",
        "\t\t\t\t\t{\n",
        "\t\t\t\t\t\t\"indexed\": true,\n",
        "\t\t\t\t\t\t\"internalType\": \"address\",\n",
        "\t\t\t\t\t\t\"name\": \"to\",\n",
        "\t\t\t\t\t\t\"type\": \"address\"\n",
        "\t\t\t\t\t},\n",
        "\t\t\t\t\t{\n",
        "\t\t\t\t\t\t\"indexed\": false,\n",
        "\t\t\t\t\t\t\"internalType\": \"uint256\",\n",
        "\t\t\t\t\t\t\"name\": \"value\",\n",
        "\t\t\t\t\t\t\"type\": \"uint256\"\n",
        "\t\t\t\t\t}\n",
        "\t\t\t\t],\n",
        "\t\t\t\t\"name\": \"Transfer\",\n",
        "\t\t\t\t\"type\": \"event\"\n",
        "\t\t\t},\n",
        "\t\t\t{\n",
        "\t\t\t\t\"inputs\": [\n",
        "\t\t\t\t\t{\n",
        "\t\t\t\t\t\t\"internalType\": \"address\",\n",
        "\t\t\t\t\t\t\"name\": \"owner\",\n",
        "\t\t\t\t\t\t\"type\": \"address\"\n",
        "\t\t\t\t\t},\n",
        "\t\t\t\t\t{\n",
        "\t\t\t\t\t\t\"internalType\": \"address\",\n",
        "\t\t\t\t\t\t\"name\": \"spender\",\n",
        "\t\t\t\t\t\t\"type\": \"address\"\n",
        "\t\t\t\t\t}\n",
        "\t\t\t\t],\n",
        "\t\t\t\t\"name\": \"allowance\",\n",
        "\t\t\t\t\"outputs\": [\n",
        "\t\t\t\t\t{\n",
        "\t\t\t\t\t\t\"internalType\": \"uint256\",\n",
        "\t\t\t\t\t\t\"name\": \"\",\n",
        "\t\t\t\t\t\t\"type\": \"uint256\"\n",
        "\t\t\t\t\t}\n",
        "\t\t\t\t],\n",
        "\t\t\t\t\"stateMutability\": \"view\",\n",
        "\t\t\t\t\"type\": \"function\"\n",
        "\t\t\t},\n",
        "\t\t\t{\n",
        "\t\t\t\t\"inputs\": [\n",
        "\t\t\t\t\t{\n",
        "\t\t\t\t\t\t\"internalType\": \"address\",\n",
        "\t\t\t\t\t\t\"name\": \"spender\",\n",
        "\t\t\t\t\t\t\"type\": \"address\"\n",
        "\t\t\t\t\t},\n",
        "\t\t\t\t\t{\n",
        "\t\t\t\t\t\t\"internalType\": \"uint256\",\n",
        "\t\t\t\t\t\t\"name\": \"amount\",\n",
        "\t\t\t\t\t\t\"type\": \"uint256\"\n",
        "\t\t\t\t\t}\n",
        "\t\t\t\t],\n",
        "\t\t\t\t\"name\": \"approve\",\n",
        "\t\t\t\t\"outputs\": [\n",
        "\t\t\t\t\t{\n",
        "\t\t\t\t\t\t\"internalType\": \"bool\",\n",
        "\t\t\t\t\t\t\"name\": \"\",\n",
        "\t\t\t\t\t\t\"type\": \"bool\"\n",
        "\t\t\t\t\t}\n",
        "\t\t\t\t],\n",
        "\t\t\t\t\"stateMutability\": \"nonpayable\",\n",
        "\t\t\t\t\"type\": \"function\"\n",
        "\t\t\t},\n",
        "\t\t\t{\n",
        "\t\t\t\t\"inputs\": [\n",
        "\t\t\t\t\t{\n",
        "\t\t\t\t\t\t\"internalType\": \"address\",\n",
        "\t\t\t\t\t\t\"name\": \"account\",\n",
        "\t\t\t\t\t\t\"type\": \"address\"\n",
        "\t\t\t\t\t}\n",
        "\t\t\t\t],\n",
        "\t\t\t\t\"name\": \"balanceOf\",\n",
        "\t\t\t\t\"outputs\": [\n",
        "\t\t\t\t\t{\n",
        "\t\t\t\t\t\t\"internalType\": \"uint256\",\n",
        "\t\t\t\t\t\t\"name\": \"\",\n",
        "\t\t\t\t\t\t\"type\": \"uint256\"\n",
        "\t\t\t\t\t}\n",
        "\t\t\t\t],\n",
        "\t\t\t\t\"stateMutability\": \"view\",\n",
        "\t\t\t\t\"type\": \"function\"\n",
        "\t\t\t},\n",
        "\t\t\t{\n",
        "\t\t\t\t\"inputs\": [],\n",
        "\t\t\t\t\"name\": \"decimals\",\n",
        "\t\t\t\t\"outputs\": [\n",
        "\t\t\t\t\t{\n",
        "\t\t\t\t\t\t\"internalType\": \"uint8\",\n",
        "\t\t\t\t\t\t\"name\": \"\",\n",
        "\t\t\t\t\t\t\"type\": \"uint8\"\n",
        "\t\t\t\t\t}\n",
        "\t\t\t\t],\n",
        "\t\t\t\t\"stateMutability\": \"view\",\n",
        "\t\t\t\t\"type\": \"function\"\n",
        "\t\t\t},\n",
        "\t\t\t{\n",
        "\t\t\t\t\"inputs\": [\n",
        "\t\t\t\t\t{\n",
        "\t\t\t\t\t\t\"internalType\": \"address\",\n",
        "\t\t\t\t\t\t\"name\": \"spender\",\n",
        "\t\t\t\t\t\t\"type\": \"address\"\n",
        "\t\t\t\t\t},\n",
        "\t\t\t\t\t{\n",
        "\t\t\t\t\t\t\"internalType\": \"uint256\",\n",
        "\t\t\t\t\t\t\"name\": \"subtractedValue\",\n",
        "\t\t\t\t\t\t\"type\": \"uint256\"\n",
        "\t\t\t\t\t}\n",
        "\t\t\t\t],\n",
        "\t\t\t\t\"name\": \"decreaseAllowance\",\n",
        "\t\t\t\t\"outputs\": [\n",
        "\t\t\t\t\t{\n",
        "\t\t\t\t\t\t\"internalType\": \"bool\",\n",
        "\t\t\t\t\t\t\"name\": \"\",\n",
        "\t\t\t\t\t\t\"type\": \"bool\"\n",
        "\t\t\t\t\t}\n",
        "\t\t\t\t],\n",
        "\t\t\t\t\"stateMutability\": \"nonpayable\",\n",
        "\t\t\t\t\"type\": \"function\"\n",
        "\t\t\t},\n",
        "\t\t\t{\n",
        "\t\t\t\t\"inputs\": [\n",
        "\t\t\t\t\t{\n",
        "\t\t\t\t\t\t\"internalType\": \"address\",\n",
        "\t\t\t\t\t\t\"name\": \"spender\",\n",
        "\t\t\t\t\t\t\"type\": \"address\"\n",
        "\t\t\t\t\t},\n",
        "\t\t\t\t\t{\n",
        "\t\t\t\t\t\t\"internalType\": \"uint256\",\n",
        "\t\t\t\t\t\t\"name\": \"addedValue\",\n",
        "\t\t\t\t\t\t\"type\": \"uint256\"\n",
        "\t\t\t\t\t}\n",
        "\t\t\t\t],\n",
        "\t\t\t\t\"name\": \"increaseAllowance\",\n",
        "\t\t\t\t\"outputs\": [\n",
        "\t\t\t\t\t{\n",
        "\t\t\t\t\t\t\"internalType\": \"bool\",\n",
        "\t\t\t\t\t\t\"name\": \"\",\n",
        "\t\t\t\t\t\t\"type\": \"bool\"\n",
        "\t\t\t\t\t}\n",
        "\t\t\t\t],\n",
        "\t\t\t\t\"stateMutability\": \"nonpayable\",\n",
        "\t\t\t\t\"type\": \"function\"\n",
        "\t\t\t},\n",
        "\t\t\t{\n",
        "\t\t\t\t\"inputs\": [],\n",
        "\t\t\t\t\"name\": \"name\",\n",
        "\t\t\t\t\"outputs\": [\n",
        "\t\t\t\t\t{\n",
        "\t\t\t\t\t\t\"internalType\": \"string\",\n",
        "\t\t\t\t\t\t\"name\": \"\",\n",
        "\t\t\t\t\t\t\"type\": \"string\"\n",
        "\t\t\t\t\t}\n",
        "\t\t\t\t],\n",
        "\t\t\t\t\"stateMutability\": \"view\",\n",
        "\t\t\t\t\"type\": \"function\"\n",
        "\t\t\t},\n",
        "\t\t\t{\n",
        "\t\t\t\t\"inputs\": [],\n",
        "\t\t\t\t\"name\": \"symbol\",\n",
        "\t\t\t\t\"outputs\": [\n",
        "\t\t\t\t\t{\n",
        "\t\t\t\t\t\t\"internalType\": \"string\",\n",
        "\t\t\t\t\t\t\"name\": \"\",\n",
        "\t\t\t\t\t\t\"type\": \"string\"\n",
        "\t\t\t\t\t}\n",
        "\t\t\t\t],\n",
        "\t\t\t\t\"stateMutability\": \"view\",\n",
        "\t\t\t\t\"type\": \"function\"\n",
        "\t\t\t},\n",
        "\t\t\t{\n",
        "\t\t\t\t\"inputs\": [],\n",
        "\t\t\t\t\"name\": \"totalSupply\",\n",
        "\t\t\t\t\"outputs\": [\n",
        "\t\t\t\t\t{\n",
        "\t\t\t\t\t\t\"internalType\": \"uint256\",\n",
        "\t\t\t\t\t\t\"name\": \"\",\n",
        "\t\t\t\t\t\t\"type\": \"uint256\"\n",
        "\t\t\t\t\t}\n",
        "\t\t\t\t],\n",
        "\t\t\t\t\"stateMutability\": \"view\",\n",
        "\t\t\t\t\"type\": \"function\"\n",
        "\t\t\t},\n",
        "\t\t\t{\n",
        "\t\t\t\t\"inputs\": [\n",
        "\t\t\t\t\t{\n",
        "\t\t\t\t\t\t\"internalType\": \"address\",\n",
        "\t\t\t\t\t\t\"name\": \"to\",\n",
        "\t\t\t\t\t\t\"type\": \"address\"\n",
        "\t\t\t\t\t},\n",
        "\t\t\t\t\t{\n",
        "\t\t\t\t\t\t\"internalType\": \"uint256\",\n",
        "\t\t\t\t\t\t\"name\": \"amount\",\n",
        "\t\t\t\t\t\t\"type\": \"uint256\"\n",
        "\t\t\t\t\t}\n",
        "\t\t\t\t],\n",
        "\t\t\t\t\"name\": \"transfer\",\n",
        "\t\t\t\t\"outputs\": [\n",
        "\t\t\t\t\t{\n",
        "\t\t\t\t\t\t\"internalType\": \"bool\",\n",
        "\t\t\t\t\t\t\"name\": \"\",\n",
        "\t\t\t\t\t\t\"type\": \"bool\"\n",
        "\t\t\t\t\t}\n",
        "\t\t\t\t],\n",
        "\t\t\t\t\"stateMutability\": \"nonpayable\",\n",
        "\t\t\t\t\"type\": \"function\"\n",
        "\t\t\t},\n",
        "\t\t\t{\n",
        "\t\t\t\t\"inputs\": [\n",
        "\t\t\t\t\t{\n",
        "\t\t\t\t\t\t\"internalType\": \"address\",\n",
        "\t\t\t\t\t\t\"name\": \"from\",\n",
        "\t\t\t\t\t\t\"type\": \"address\"\n",
        "\t\t\t\t\t},\n",
        "\t\t\t\t\t{\n",
        "\t\t\t\t\t\t\"internalType\": \"address\",\n",
        "\t\t\t\t\t\t\"name\": \"to\",\n",
        "\t\t\t\t\t\t\"type\": \"address\"\n",
        "\t\t\t\t\t},\n",
        "\t\t\t\t\t{\n",
        "\t\t\t\t\t\t\"internalType\": \"uint256\",\n",
        "\t\t\t\t\t\t\"name\": \"amount\",\n",
        "\t\t\t\t\t\t\"type\": \"uint256\"\n",
        "\t\t\t\t\t}\n",
        "\t\t\t\t],\n",
        "\t\t\t\t\"name\": \"transferFrom\",\n",
        "\t\t\t\t\"outputs\": [\n",
        "\t\t\t\t\t{\n",
        "\t\t\t\t\t\t\"internalType\": \"bool\",\n",
        "\t\t\t\t\t\t\"name\": \"\",\n",
        "\t\t\t\t\t\t\"type\": \"bool\"\n",
        "\t\t\t\t\t}\n",
        "\t\t\t\t],\n",
        "\t\t\t\t\"stateMutability\": \"nonpayable\",\n",
        "\t\t\t\t\"type\": \"function\"\n",
        "\t\t\t}\n",
        "\t\t]\n",
        "'''"
      ],
      "metadata": {
        "id": "W9ijWXivEsJA"
      },
      "execution_count": null,
      "outputs": []
    },
    {
      "cell_type": "markdown",
      "source": [
        "### 1.2. (1 point) Write a script to\n",
        "\n",
        "(a) Send some Ethers to address_2, send some tokens to address_2. And one more time: send some Ethers to address_2, and send some tokens to address_2.\n",
        "\n",
        "(b) Again send some tokens to address_3, and send some Ethers to address_3. And one more time: send some tokens to address_3, and send some Ethers to address_3.\n",
        "\n",
        "But this time, Remix and Metamask are not allowed. Only Web3 is recommended. "
      ],
      "metadata": {
        "id": "lp7iH4ICDgE0"
      }
    },
    {
      "cell_type": "markdown",
      "source": [
        "Firstly, I fix initial values of an eth amount and a token number for each address"
      ],
      "metadata": {
        "id": "nCD-CLUi-paD"
      }
    },
    {
      "cell_type": "code",
      "source": [
        "myToken = w3.eth.contract(address=contract_address, abi=contract_abi);\n",
        "def get_number_of_tokens():\n",
        "    print(f'Number of tokens (address_1): {myToken.functions.balanceOf(address_1).call()}')\n",
        "    print(f'Number of tokens (address_2): {myToken.functions.balanceOf(address_2).call()}')\n",
        "    print(f'Number of tokens (address_3): {myToken.functions.balanceOf(address_3).call()}')\n",
        "\n",
        "get_number_of_tokens()"
      ],
      "metadata": {
        "colab": {
          "base_uri": "https://localhost:8080/"
        },
        "id": "I9nwIEIg6AB3",
        "outputId": "2bc347e2-1f3c-4223-b7a7-099f533a1394"
      },
      "execution_count": null,
      "outputs": [
        {
          "output_type": "stream",
          "name": "stdout",
          "text": [
            "Number of tokens (address_1): 5\n",
            "Number of tokens (address_2): 2\n",
            "Number of tokens (address_3): 3\n"
          ]
        }
      ]
    },
    {
      "cell_type": "code",
      "source": [
        "print('Address 1:', get_balance_ethers(w3, address_1),'Ethers')\n",
        "print('Address 2:', get_balance_ethers(w3, address_2),'Ethers')\n",
        "print('Address 3:', get_balance_ethers(w3, address_3),'Ethers')"
      ],
      "metadata": {
        "colab": {
          "base_uri": "https://localhost:8080/"
        },
        "id": "iMRPBuOHkSDf",
        "outputId": "72452b43-15c9-414a-fe56-72ab4a78ed7d"
      },
      "execution_count": null,
      "outputs": [
        {
          "output_type": "stream",
          "name": "stdout",
          "text": [
            "Address 1: 1.08905261976177059057846463474561460316181182861328125E-19 Ethers\n",
            "Address 2: 2.00000000000000004163336342344337026588618755340576171875E-20 Ethers\n",
            "Address 3: 1.0000000000000001942890293094023945741355419158935546875E-20 Ethers\n"
          ]
        }
      ]
    },
    {
      "cell_type": "markdown",
      "source": [
        "Then I write functions for sending ethers/tokens from one address to another address"
      ],
      "metadata": {
        "id": "lOGFNu-i_GsR"
      }
    },
    {
      "cell_type": "code",
      "source": [
        "def send_ethers(address_from, address_to, amount_ethers, pk):\n",
        "    signed_txn = w3.eth.account.sign_transaction({'to': address_to, 'from': address_from,\n",
        "                                                'value': amount_ethers,\n",
        "                                                'gas': 200000, 'gasPrice': w3.eth.gas_price,\n",
        "                                                'nonce': w3.eth.getTransactionCount(address_from)}, pk)\n",
        "    tx_hash = w3.eth.sendRawTransaction(signed_txn.rawTransaction)\n",
        "    tx_receipt = w3.eth.waitForTransactionReceipt(tx_hash)\n",
        "    return tx_receipt"
      ],
      "metadata": {
        "id": "hvb0384CCPv5"
      },
      "execution_count": null,
      "outputs": []
    },
    {
      "cell_type": "code",
      "source": [
        "def send_tokens(address_from, address_to, amount_tokens, pk):\n",
        "    tx_token = myToken.functions.transfer(address_to, amount_tokens).buildTransaction({'from': address_from, \n",
        "                                                                                'gas': 200000, 'gasPrice': w3.eth.gas_price,\n",
        "                                                                                'nonce': w3.eth.getTransactionCount(address_from)})\n",
        "    signed_txn = w3.eth.account.sign_transaction(tx_token, pk)\n",
        "    tx_hash = w3.eth.sendRawTransaction(signed_txn.rawTransaction)\n",
        "    tx_receipt = w3.eth.waitForTransactionReceipt(tx_hash)\n",
        "    return tx_receipt"
      ],
      "metadata": {
        "id": "hIHf896EDL3V"
      },
      "execution_count": null,
      "outputs": []
    },
    {
      "cell_type": "markdown",
      "source": [
        "#### (a) Send some Ethers to address_2, send some tokens to address_2. "
      ],
      "metadata": {
        "id": "TxxRfjab_a9s"
      }
    },
    {
      "cell_type": "code",
      "source": [
        "amount_ethers_1 = w3.toWei(0.01, 'ether') \n",
        "eth_addr1_to_addr2_1 = send_ethers(address_1, address_2, amount_ethers_1, pk_1)\n",
        "eth_addr1_to_addr2_1 "
      ],
      "metadata": {
        "colab": {
          "base_uri": "https://localhost:8080/"
        },
        "id": "pZ1wzSm08BRN",
        "outputId": "a8e545fa-151e-4447-a563-1feaada53f9c"
      },
      "execution_count": null,
      "outputs": [
        {
          "output_type": "execute_result",
          "data": {
            "text/plain": [
              "AttributeDict({'blockHash': HexBytes('0x1a98455a6268b78f8300a8400b5b2188d7b2842ff7180d264de5b29b859bb792'),\n",
              " 'blockNumber': 8624770,\n",
              " 'contractAddress': None,\n",
              " 'cumulativeGasUsed': 11625601,\n",
              " 'effectiveGasPrice': 41824205847,\n",
              " 'from': '0xa5C081CDfc71E3c0D7B8fc3644C66561bb698B29',\n",
              " 'gasUsed': 21000,\n",
              " 'logs': [],\n",
              " 'logsBloom': HexBytes('0x00000000000000000000000000000000000000000000000000000000000000000000000000000000000000000000000000000000000000000000000000000000000000000000000000000000000000000000000000000000000000000000000000000000000000000000000000000000000000000000000000000000000000000000000000000000000000000000000000000000000000000000000000000000000000000000000000000000000000000000000000000000000000000000000000000000000000000000000000000000000000000000000000000000000000000000000000000000000000000000000000000000000000000000000000000000'),\n",
              " 'status': 1,\n",
              " 'to': '0xc39C06023AFACA979C41a22C93B81Db306C2678f',\n",
              " 'transactionHash': HexBytes('0xb6e2ad4ec68db2b3657e9cbf86675ce1c10e59d322b5e8acfb93dcfb7df97a11'),\n",
              " 'transactionIndex': 72,\n",
              " 'type': '0x0'})"
            ]
          },
          "metadata": {},
          "execution_count": 39
        }
      ]
    },
    {
      "cell_type": "code",
      "source": [
        "amount_tokens_1 = 1\n",
        "tokens_addr1_to_addr2_1 = send_tokens(address_1, address_2, amount_tokens_1, pk_1)\n",
        "tokens_addr1_to_addr2_1"
      ],
      "metadata": {
        "colab": {
          "base_uri": "https://localhost:8080/"
        },
        "id": "TNGJ5qO4_qMM",
        "outputId": "87b33822-ecff-4759-9730-c4f4aaf2ae2f"
      },
      "execution_count": null,
      "outputs": [
        {
          "output_type": "execute_result",
          "data": {
            "text/plain": [
              "AttributeDict({'blockHash': HexBytes('0xc47ba9f7b0326482f954873d743efabe89e87c30a41b046ce2adbd6bd2d863d9'),\n",
              " 'blockNumber': 8624778,\n",
              " 'contractAddress': None,\n",
              " 'cumulativeGasUsed': 20574158,\n",
              " 'effectiveGasPrice': 40323288424,\n",
              " 'from': '0xa5C081CDfc71E3c0D7B8fc3644C66561bb698B29',\n",
              " 'gasUsed': 35221,\n",
              " 'logs': [AttributeDict({'address': '0x1b96fcF5419a7D617F557D1756770f8a1D3dcA06',\n",
              "   'blockHash': HexBytes('0xc47ba9f7b0326482f954873d743efabe89e87c30a41b046ce2adbd6bd2d863d9'),\n",
              "   'blockNumber': 8624778,\n",
              "   'data': '0x0000000000000000000000000000000000000000000000000000000000000001',\n",
              "   'logIndex': 197,\n",
              "   'removed': False,\n",
              "   'topics': [HexBytes('0xddf252ad1be2c89b69c2b068fc378daa952ba7f163c4a11628f55a4df523b3ef'),\n",
              "    HexBytes('0x000000000000000000000000a5c081cdfc71e3c0d7b8fc3644c66561bb698b29'),\n",
              "    HexBytes('0x000000000000000000000000c39c06023afaca979c41a22c93b81db306c2678f')],\n",
              "   'transactionHash': HexBytes('0x7f91c731f0981074bfa4f5c4736017c210392ecddd8f5c76eb86bbe0f797b78d'),\n",
              "   'transactionIndex': 97})],\n",
              " 'logsBloom': HexBytes('0x00000800000000000000000000000000000000000000000010000000040000000000000000010000000001000000000000000000000000000000000000000000000000000000000000000008000000000000000000000000000000000000000000000000000000000000000000000000000000000000000000000010000000000000000000000004000000000000000000000000000000000000000000000000000000000000000000000000000000000000000002000000000000000000000000000002000000000004000000000000000000000000000000000000000000000000000000000000000000000000000000000000000000000000000000000000'),\n",
              " 'status': 1,\n",
              " 'to': '0x1b96fcF5419a7D617F557D1756770f8a1D3dcA06',\n",
              " 'transactionHash': HexBytes('0x7f91c731f0981074bfa4f5c4736017c210392ecddd8f5c76eb86bbe0f797b78d'),\n",
              " 'transactionIndex': 97,\n",
              " 'type': '0x0'})"
            ]
          },
          "metadata": {},
          "execution_count": 40
        }
      ]
    },
    {
      "cell_type": "markdown",
      "source": [
        "#### (a) Once again: send some Ethers to address_2, send some tokens to address_2. "
      ],
      "metadata": {
        "id": "_3OsUz1r_nqt"
      }
    },
    {
      "cell_type": "code",
      "source": [
        "eth_addr1_to_addr2_2 = send_ethers(address_1, address_2, amount_ethers_1, pk_1)\n",
        "eth_addr1_to_addr2_2"
      ],
      "metadata": {
        "colab": {
          "base_uri": "https://localhost:8080/"
        },
        "id": "xAArP-KKBkJD",
        "outputId": "2533baca-23bc-4593-f32f-32ac641a40f6"
      },
      "execution_count": null,
      "outputs": [
        {
          "output_type": "execute_result",
          "data": {
            "text/plain": [
              "AttributeDict({'blockHash': HexBytes('0x10354670b749a3df706c3a41b91a138be97c9c86dd846c00fd3c527278e2081e'),\n",
              " 'blockNumber': 8624782,\n",
              " 'contractAddress': None,\n",
              " 'cumulativeGasUsed': 12710841,\n",
              " 'effectiveGasPrice': 41437551069,\n",
              " 'from': '0xa5C081CDfc71E3c0D7B8fc3644C66561bb698B29',\n",
              " 'gasUsed': 21000,\n",
              " 'logs': [],\n",
              " 'logsBloom': HexBytes('0x00000000000000000000000000000000000000000000000000000000000000000000000000000000000000000000000000000000000000000000000000000000000000000000000000000000000000000000000000000000000000000000000000000000000000000000000000000000000000000000000000000000000000000000000000000000000000000000000000000000000000000000000000000000000000000000000000000000000000000000000000000000000000000000000000000000000000000000000000000000000000000000000000000000000000000000000000000000000000000000000000000000000000000000000000000000'),\n",
              " 'status': 1,\n",
              " 'to': '0xc39C06023AFACA979C41a22C93B81Db306C2678f',\n",
              " 'transactionHash': HexBytes('0xfc5e502ddb220d9e21070b4ae2b3c9c2e0b11b72c1f28b8ea85851b970c46c5e'),\n",
              " 'transactionIndex': 72,\n",
              " 'type': '0x0'})"
            ]
          },
          "metadata": {},
          "execution_count": 41
        }
      ]
    },
    {
      "cell_type": "code",
      "source": [
        "tokens_addr1_to_addr2_2 = send_tokens(address_1, address_2, amount_tokens_1, pk_1)\n",
        "tokens_addr1_to_addr2_2"
      ],
      "metadata": {
        "colab": {
          "base_uri": "https://localhost:8080/"
        },
        "id": "dhUQTN2slGHR",
        "outputId": "8a675b34-afe6-48ed-a673-f82b88335f28"
      },
      "execution_count": null,
      "outputs": [
        {
          "output_type": "execute_result",
          "data": {
            "text/plain": [
              "AttributeDict({'blockHash': HexBytes('0x92a0aa0d81650f79699be315ba04ded0ebc636ba33593cebb9e5b9479a2118b2'),\n",
              " 'blockNumber': 8624784,\n",
              " 'contractAddress': None,\n",
              " 'cumulativeGasUsed': 573584,\n",
              " 'effectiveGasPrice': 41567257818,\n",
              " 'from': '0xa5C081CDfc71E3c0D7B8fc3644C66561bb698B29',\n",
              " 'gasUsed': 35221,\n",
              " 'logs': [AttributeDict({'address': '0x1b96fcF5419a7D617F557D1756770f8a1D3dcA06',\n",
              "   'blockHash': HexBytes('0x92a0aa0d81650f79699be315ba04ded0ebc636ba33593cebb9e5b9479a2118b2'),\n",
              "   'blockNumber': 8624784,\n",
              "   'data': '0x0000000000000000000000000000000000000000000000000000000000000001',\n",
              "   'logIndex': 7,\n",
              "   'removed': False,\n",
              "   'topics': [HexBytes('0xddf252ad1be2c89b69c2b068fc378daa952ba7f163c4a11628f55a4df523b3ef'),\n",
              "    HexBytes('0x000000000000000000000000a5c081cdfc71e3c0d7b8fc3644c66561bb698b29'),\n",
              "    HexBytes('0x000000000000000000000000c39c06023afaca979c41a22c93b81db306c2678f')],\n",
              "   'transactionHash': HexBytes('0xfa58dd883e77ec781842f38122b06b1e68cc73264a9f47c76bc76cd02b7a3827'),\n",
              "   'transactionIndex': 14})],\n",
              " 'logsBloom': HexBytes('0x00000800000000000000000000000000000000000000000010000000040000000000000000010000000001000000000000000000000000000000000000000000000000000000000000000008000000000000000000000000000000000000000000000000000000000000000000000000000000000000000000000010000000000000000000000004000000000000000000000000000000000000000000000000000000000000000000000000000000000000000002000000000000000000000000000002000000000004000000000000000000000000000000000000000000000000000000000000000000000000000000000000000000000000000000000000'),\n",
              " 'status': 1,\n",
              " 'to': '0x1b96fcF5419a7D617F557D1756770f8a1D3dcA06',\n",
              " 'transactionHash': HexBytes('0xfa58dd883e77ec781842f38122b06b1e68cc73264a9f47c76bc76cd02b7a3827'),\n",
              " 'transactionIndex': 14,\n",
              " 'type': '0x0'})"
            ]
          },
          "metadata": {},
          "execution_count": 42
        }
      ]
    },
    {
      "cell_type": "markdown",
      "source": [
        "#### Check the changes in token numbers and ethers amount"
      ],
      "metadata": {
        "id": "N2GlV_XB_uiT"
      }
    },
    {
      "cell_type": "code",
      "source": [
        "get_number_of_tokens()\n",
        "print('Address 1:', get_balance_ethers(w3, address_1),'Ethers')\n",
        "print('Address 2:', get_balance_ethers(w3, address_2),'Ethers')\n",
        "print('Address 3:', get_balance_ethers(w3, address_3),'Ethers')"
      ],
      "metadata": {
        "colab": {
          "base_uri": "https://localhost:8080/"
        },
        "id": "ryV5cqM6lM08",
        "outputId": "15084631-827a-45da-a897-a9738b7a7e8a"
      },
      "execution_count": null,
      "outputs": [
        {
          "output_type": "stream",
          "name": "stdout",
          "text": [
            "Number of tokens (address_1): 3\n",
            "Number of tokens (address_2): 4\n",
            "Number of tokens (address_3): 3\n",
            "Address 1: 8.4272498151751584760660307438229210674762725830078125E-20 Ethers\n",
            "Address 2: 4.0000000000000000832667268468867405317723751068115234375E-20 Ethers\n",
            "Address 3: 1.0000000000000001942890293094023945741355419158935546875E-20 Ethers\n"
          ]
        }
      ]
    },
    {
      "cell_type": "markdown",
      "source": [
        "#### (b) Send some Ethers to address_3, send some tokens to address_3. "
      ],
      "metadata": {
        "id": "FWwcnJwf_47Z"
      }
    },
    {
      "cell_type": "code",
      "source": [
        "amount_ethers_3 = w3.toWei(0.02, 'ether')\n",
        "eth_addr1_to_addr3_1 = send_ethers(address_1, address_3, amount_ethers_3, pk_1)\n",
        "eth_addr1_to_addr3_1"
      ],
      "metadata": {
        "colab": {
          "base_uri": "https://localhost:8080/"
        },
        "id": "QJq7WFnihuHT",
        "outputId": "fee9d608-d18b-4891-a377-c3846f0787fe"
      },
      "execution_count": null,
      "outputs": [
        {
          "output_type": "execute_result",
          "data": {
            "text/plain": [
              "AttributeDict({'blockHash': HexBytes('0x98e8b8df0293cc7f143e9a7444d293fe6c6c5068477aa16841908d75cb80c85a'),\n",
              " 'blockNumber': 8624799,\n",
              " 'contractAddress': None,\n",
              " 'cumulativeGasUsed': 2047276,\n",
              " 'effectiveGasPrice': 46936180365,\n",
              " 'from': '0xa5C081CDfc71E3c0D7B8fc3644C66561bb698B29',\n",
              " 'gasUsed': 21000,\n",
              " 'logs': [],\n",
              " 'logsBloom': HexBytes('0x00000000000000000000000000000000000000000000000000000000000000000000000000000000000000000000000000000000000000000000000000000000000000000000000000000000000000000000000000000000000000000000000000000000000000000000000000000000000000000000000000000000000000000000000000000000000000000000000000000000000000000000000000000000000000000000000000000000000000000000000000000000000000000000000000000000000000000000000000000000000000000000000000000000000000000000000000000000000000000000000000000000000000000000000000000000'),\n",
              " 'status': 1,\n",
              " 'to': '0xc0D7e1251B82Aa8fAE4E5D0AB5ee8713F8b5be97',\n",
              " 'transactionHash': HexBytes('0xdbbceeae01f1aa71790b60263615f2e7cecfed3f3f98061fcfb3c94bdf34248b'),\n",
              " 'transactionIndex': 9,\n",
              " 'type': '0x0'})"
            ]
          },
          "metadata": {},
          "execution_count": 45
        }
      ]
    },
    {
      "cell_type": "code",
      "source": [
        "amount_tokens_3 = 1\n",
        "tokens_addr1_to_addr3_1 = send_tokens(address_1, address_3, amount_tokens_3, pk_1)\n",
        "tokens_addr1_to_addr3_1"
      ],
      "metadata": {
        "colab": {
          "base_uri": "https://localhost:8080/"
        },
        "id": "CLK96raJh--9",
        "outputId": "a7ce1db2-8dab-4216-8290-0b4c498f1967"
      },
      "execution_count": null,
      "outputs": [
        {
          "output_type": "execute_result",
          "data": {
            "text/plain": [
              "AttributeDict({'blockHash': HexBytes('0xc180f99b990a02f3082f67ef913caf5f520d597e016c95c23168298682f9b9c9'),\n",
              " 'blockNumber': 8624800,\n",
              " 'contractAddress': None,\n",
              " 'cumulativeGasUsed': 4995438,\n",
              " 'effectiveGasPrice': 45154042778,\n",
              " 'from': '0xa5C081CDfc71E3c0D7B8fc3644C66561bb698B29',\n",
              " 'gasUsed': 35221,\n",
              " 'logs': [AttributeDict({'address': '0x1b96fcF5419a7D617F557D1756770f8a1D3dcA06',\n",
              "   'blockHash': HexBytes('0xc180f99b990a02f3082f67ef913caf5f520d597e016c95c23168298682f9b9c9'),\n",
              "   'blockNumber': 8624800,\n",
              "   'data': '0x0000000000000000000000000000000000000000000000000000000000000001',\n",
              "   'logIndex': 27,\n",
              "   'removed': False,\n",
              "   'topics': [HexBytes('0xddf252ad1be2c89b69c2b068fc378daa952ba7f163c4a11628f55a4df523b3ef'),\n",
              "    HexBytes('0x000000000000000000000000a5c081cdfc71e3c0d7b8fc3644c66561bb698b29'),\n",
              "    HexBytes('0x000000000000000000000000c0d7e1251b82aa8fae4e5d0ab5ee8713f8b5be97')],\n",
              "   'transactionHash': HexBytes('0xf2aa9df9858507a13a4479b7f725c49100c662eeaa16ac9ec98efc7a9cc4412a'),\n",
              "   'transactionIndex': 20})],\n",
              " 'logsBloom': HexBytes('0x00000800000000000000000000000000000000000000000010000000040000000000000000010000008001000000000000000000000000000000004000000000000000000000000000000008000000000000000000000000000000000000000000000000000000000000000000000000000000000000000000000010000000000000000000000004000000000000000000000000000000000000000000000000000000000000000000000000000000000000000080000000000000000000000000000002000000000000000000000000000000000000000000000000000000000000000000000000000000000000000000000000000000000000000000000000'),\n",
              " 'status': 1,\n",
              " 'to': '0x1b96fcF5419a7D617F557D1756770f8a1D3dcA06',\n",
              " 'transactionHash': HexBytes('0xf2aa9df9858507a13a4479b7f725c49100c662eeaa16ac9ec98efc7a9cc4412a'),\n",
              " 'transactionIndex': 20,\n",
              " 'type': '0x0'})"
            ]
          },
          "metadata": {},
          "execution_count": 46
        }
      ]
    },
    {
      "cell_type": "markdown",
      "source": [
        "#### (b) Once again: send some Ethers to address_3, send some tokens to address_3. "
      ],
      "metadata": {
        "id": "R3MDAx_s_8cJ"
      }
    },
    {
      "cell_type": "code",
      "source": [
        "amount_ethers_3 = w3.toWei(0.01, 'ether')\n",
        "eth_addr1_to_addr3_2 = send_ethers(address_1, address_3, amount_ethers_3, pk_1)\n",
        "eth_addr1_to_addr3_2"
      ],
      "metadata": {
        "colab": {
          "base_uri": "https://localhost:8080/"
        },
        "id": "jLPT4vrTltjv",
        "outputId": "4b4657c3-ccef-44a6-fb62-f95ead218952"
      },
      "execution_count": null,
      "outputs": [
        {
          "output_type": "execute_result",
          "data": {
            "text/plain": [
              "AttributeDict({'blockHash': HexBytes('0xf150baa2a4f2f47880ac342fc9672814d235040373362741835ae6f49424f907'),\n",
              " 'blockNumber': 8624801,\n",
              " 'contractAddress': None,\n",
              " 'cumulativeGasUsed': 24361506,\n",
              " 'effectiveGasPrice': 43378530712,\n",
              " 'from': '0xa5C081CDfc71E3c0D7B8fc3644C66561bb698B29',\n",
              " 'gasUsed': 21000,\n",
              " 'logs': [],\n",
              " 'logsBloom': HexBytes('0x00000000000000000000000000000000000000000000000000000000000000000000000000000000000000000000000000000000000000000000000000000000000000000000000000000000000000000000000000000000000000000000000000000000000000000000000000000000000000000000000000000000000000000000000000000000000000000000000000000000000000000000000000000000000000000000000000000000000000000000000000000000000000000000000000000000000000000000000000000000000000000000000000000000000000000000000000000000000000000000000000000000000000000000000000000000'),\n",
              " 'status': 1,\n",
              " 'to': '0xc0D7e1251B82Aa8fAE4E5D0AB5ee8713F8b5be97',\n",
              " 'transactionHash': HexBytes('0xfe915357fe7e8bb2c7989d8181cd0418bd5e037e1653f13a867d36b503865313'),\n",
              " 'transactionIndex': 143,\n",
              " 'type': '0x0'})"
            ]
          },
          "metadata": {},
          "execution_count": 47
        }
      ]
    },
    {
      "cell_type": "code",
      "source": [
        "tokens_addr1_to_addr3_2 = send_tokens(address_1, address_3, amount_tokens_3, pk_1)\n",
        "tokens_addr1_to_addr3_2"
      ],
      "metadata": {
        "colab": {
          "base_uri": "https://localhost:8080/"
        },
        "id": "iUnSOAK0lwxf",
        "outputId": "0255e5bd-65b6-441a-f41d-1c52891f6f9b"
      },
      "execution_count": null,
      "outputs": [
        {
          "output_type": "execute_result",
          "data": {
            "text/plain": [
              "AttributeDict({'blockHash': HexBytes('0x0852e198ccca667fc55ea173c9b0116825b179719f9aa928a34ad72d666ec70b'),\n",
              " 'blockNumber': 8624803,\n",
              " 'contractAddress': None,\n",
              " 'cumulativeGasUsed': 14476536,\n",
              " 'effectiveGasPrice': 42229693124,\n",
              " 'from': '0xa5C081CDfc71E3c0D7B8fc3644C66561bb698B29',\n",
              " 'gasUsed': 35221,\n",
              " 'logs': [AttributeDict({'address': '0x1b96fcF5419a7D617F557D1756770f8a1D3dcA06',\n",
              "   'blockHash': HexBytes('0x0852e198ccca667fc55ea173c9b0116825b179719f9aa928a34ad72d666ec70b'),\n",
              "   'blockNumber': 8624803,\n",
              "   'data': '0x0000000000000000000000000000000000000000000000000000000000000001',\n",
              "   'logIndex': 155,\n",
              "   'removed': False,\n",
              "   'topics': [HexBytes('0xddf252ad1be2c89b69c2b068fc378daa952ba7f163c4a11628f55a4df523b3ef'),\n",
              "    HexBytes('0x000000000000000000000000a5c081cdfc71e3c0d7b8fc3644c66561bb698b29'),\n",
              "    HexBytes('0x000000000000000000000000c0d7e1251b82aa8fae4e5d0ab5ee8713f8b5be97')],\n",
              "   'transactionHash': HexBytes('0x6f089352f866b1ec6a556dc183c3d3bccd2ca990d38455572640b3cf614e952a'),\n",
              "   'transactionIndex': 63})],\n",
              " 'logsBloom': HexBytes('0x00000800000000000000000000000000000000000000000010000000040000000000000000010000008001000000000000000000000000000000004000000000000000000000000000000008000000000000000000000000000000000000000000000000000000000000000000000000000000000000000000000010000000000000000000000004000000000000000000000000000000000000000000000000000000000000000000000000000000000000000080000000000000000000000000000002000000000000000000000000000000000000000000000000000000000000000000000000000000000000000000000000000000000000000000000000'),\n",
              " 'status': 1,\n",
              " 'to': '0x1b96fcF5419a7D617F557D1756770f8a1D3dcA06',\n",
              " 'transactionHash': HexBytes('0x6f089352f866b1ec6a556dc183c3d3bccd2ca990d38455572640b3cf614e952a'),\n",
              " 'transactionIndex': 63,\n",
              " 'type': '0x0'})"
            ]
          },
          "metadata": {},
          "execution_count": 48
        }
      ]
    },
    {
      "cell_type": "markdown",
      "source": [
        "#### Check the changes in token numbers and ethers amount"
      ],
      "metadata": {
        "id": "bKpPQTeqAA9u"
      }
    },
    {
      "cell_type": "code",
      "source": [
        "print(get_balance_ethers(w3, address_1))\n",
        "print(get_balance_ethers(w3, address_2))\n",
        "print(get_balance_ethers(w3, address_3))\n",
        "get_number_of_tokens()"
      ],
      "metadata": {
        "colab": {
          "base_uri": "https://localhost:8080/"
        },
        "id": "m_TKJlKaiwXW",
        "outputId": "fd80db26-1190-4096-dafa-1c78554dc8e8"
      },
      "execution_count": null,
      "outputs": [
        {
          "output_type": "stream",
          "name": "stdout",
          "text": [
            "4.9298146656930240394611786314271739684045314788818359375E-20\n",
            "4.0000000000000000832667268468867405317723751068115234375E-20\n",
            "4.0000000000000000832667268468867405317723751068115234375E-20\n",
            "Number of tokens (address_1): 1\n",
            "Number of tokens (address_2): 4\n",
            "Number of tokens (address_3): 5\n"
          ]
        }
      ]
    },
    {
      "cell_type": "markdown",
      "source": [
        "### Task 1.3. (2 points)\n",
        "Compute gas consumption per transaction from 1.1 and 1.2 with scripts. Check if all the transactions are successful (blockchain applied changes from the transaction) with scripts. Remix and Metamask are not allowed. Only Web3 is recommended."
      ],
      "metadata": {
        "id": "7E_yU2KPjm9Z"
      }
    },
    {
      "cell_type": "code",
      "source": [
        "tx_receipts = [eth_addr1_to_addr2_1, eth_addr1_to_addr2_2,\n",
        "               tokens_addr1_to_addr2_1, tokens_addr1_to_addr2_2,\n",
        "               eth_addr1_to_addr3_1, eth_addr1_to_addr3_2,\n",
        "               tokens_addr1_to_addr3_1, tokens_addr1_to_addr3_2]\n",
        "for receipt in tx_receipts:\n",
        "    if receipt['status'] == 1:\n",
        "        print(f'Transaction {receipt.transactionHash.hex()} was successful.')\n",
        "        print(f'Gas consumption: {receipt.gasUsed}\\n')\n",
        "    else:\n",
        "        print(f'Transaction {receipt.transactionHash.hex()} failed.')"
      ],
      "metadata": {
        "colab": {
          "base_uri": "https://localhost:8080/"
        },
        "id": "ZjbQawLEj2qn",
        "outputId": "cfa015b1-d468-423b-e027-8a254ee7a363"
      },
      "execution_count": null,
      "outputs": [
        {
          "output_type": "stream",
          "name": "stdout",
          "text": [
            "Transaction 0xb6e2ad4ec68db2b3657e9cbf86675ce1c10e59d322b5e8acfb93dcfb7df97a11 was successful.\n",
            "Gas consumption: 21000\n",
            "\n",
            "Transaction 0xfc5e502ddb220d9e21070b4ae2b3c9c2e0b11b72c1f28b8ea85851b970c46c5e was successful.\n",
            "Gas consumption: 21000\n",
            "\n",
            "Transaction 0x7f91c731f0981074bfa4f5c4736017c210392ecddd8f5c76eb86bbe0f797b78d was successful.\n",
            "Gas consumption: 35221\n",
            "\n",
            "Transaction 0xfa58dd883e77ec781842f38122b06b1e68cc73264a9f47c76bc76cd02b7a3827 was successful.\n",
            "Gas consumption: 35221\n",
            "\n",
            "Transaction 0xdbbceeae01f1aa71790b60263615f2e7cecfed3f3f98061fcfb3c94bdf34248b was successful.\n",
            "Gas consumption: 21000\n",
            "\n",
            "Transaction 0xfe915357fe7e8bb2c7989d8181cd0418bd5e037e1653f13a867d36b503865313 was successful.\n",
            "Gas consumption: 21000\n",
            "\n",
            "Transaction 0xf2aa9df9858507a13a4479b7f725c49100c662eeaa16ac9ec98efc7a9cc4412a was successful.\n",
            "Gas consumption: 35221\n",
            "\n",
            "Transaction 0x6f089352f866b1ec6a556dc183c3d3bccd2ca990d38455572640b3cf614e952a was successful.\n",
            "Gas consumption: 35221\n",
            "\n"
          ]
        }
      ]
    },
    {
      "cell_type": "markdown",
      "source": [
        "## Task 2 (6 points)"
      ],
      "metadata": {
        "id": "XnDUPQF9oyE8"
      }
    },
    {
      "cell_type": "markdown",
      "source": [
        "### Task 2.1. (3 points)\n",
        "Write a smart contract to compute MMDLS course final grade. I.e.,\n",
        "\n",
        "(a) The contract deployer assumed to be a professor\n",
        "\n",
        "(b) The professor can input values to a mapping \"assign grades\": str student_id -> uint grades[8], where grades[8] are HA1, ..., HA6, ExamTerm1, ExamFinal.\n",
        "\n",
        "(c) The professor can call a method \"compute final grade\", which computes a mapping: str student_id -> uint final_grade, based on the MMDLS course formula: \n",
        "\n",
        "* Intermediate=min(round((max(HA1 +HA2, 2 * ExamTerm1)  + HA3 + HA4 + HA5 + HA6) / 6), 10)\n",
        "* If ExamFinal > 0: final_grade = min(round(0.4 * Intermediate + 0.6 * ExamFinal), 10), else final_grade = Intermediate * I(Intermediate >= 6), where I(true) = 1 and I(false) = 0."
      ],
      "metadata": {
        "id": "iCwdpKoIowDO"
      }
    },
    {
      "cell_type": "code",
      "source": [
        "'''\n",
        "// SPDX-License-Identifier: MIT\n",
        "pragma solidity ^0.8.0;\n",
        "\n",
        "contract FinalGrade {\n",
        "    \n",
        "    // Mapping to store grades for each student\n",
        "    mapping(string => uint[8]) public grades;\n",
        "    \n",
        "    // Mapping to store final grade for each student\n",
        "    mapping(string => uint) public finalGrades;\n",
        "    \n",
        "    // Function to assign grades for each student\n",
        "    function assignGrades(string memory student_id, uint[8] memory allGrades) public {\n",
        "        grades[student_id] = allGrades;\n",
        "    }\n",
        "    \n",
        "    // Function to compute final grade for each student\n",
        "    function computeFinalGrade(string memory student_id) public {\n",
        "        \n",
        "        uint[8] memory student_grades = grades[student_id];\n",
        "        \n",
        "        // Intermediate grade calculation\n",
        "        uint intermediate = round((max(student_grades [0] + student_grades [1], 2 * student_grades [6]) + student_grades [2] + student_grades [3] + student_grades [4] + student_grades [5]));\n",
        "        intermediate = min(intermediate, 10);\n",
        "        \n",
        "        // Final grade calculation\n",
        "        if (student_grades [7] > 0) {\n",
        "            uint final_grade = intermediate * 4 + student_grades[7] * 6;\n",
        "            if (final_grade % 10 >= 5) {\n",
        "                final_grade = final_grade / 10 + 1;\n",
        "            } else {\n",
        "                final_grade = final_grade / 10;\n",
        "            }\n",
        "            finalGrades[student_id] = min(final_grade, 10);\n",
        "        } else {\n",
        "            finalGrades[student_id] = intermediate * (intermediate >= 6 ? 1 : 0);\n",
        "        }\n",
        "    }\n",
        "    \n",
        "    // Utility function to return maximum of two numbers\n",
        "    function max(uint a, uint b) private pure returns (uint) {\n",
        "        return a > b ? a : b;\n",
        "    }\n",
        "\n",
        "      // Utility function to return minimum of two numbers\n",
        "    function min(uint a, uint b) private pure returns (uint) {\n",
        "        return a > b ? b : a;\n",
        "    }\n",
        "\n",
        "    // Utility function to round a number to the nearest integer\n",
        "    function round(uint n) private pure returns (uint) {\n",
        "        return n % 6 >= 3 ? n / 6 + 1: n / 6;\n",
        "    }\n",
        "    \n",
        "}\n",
        "\n",
        "'''"
      ],
      "metadata": {
        "id": "rKitptla4MDp"
      },
      "execution_count": null,
      "outputs": []
    },
    {
      "cell_type": "markdown",
      "source": [
        "Transaction link: https://goerli.etherscan.io/tx/0x8b2dae87d324d13e5d7369a305faa6906f444606011a76f3bfb307f199c6eac2\n",
        "\n",
        "Contract link: https://goerli.etherscan.io/address/0x95085eaeaecfb3a049177346945a081d504a7b39"
      ],
      "metadata": {
        "id": "dezqLm0gsDyY"
      }
    },
    {
      "cell_type": "code",
      "source": [
        "address = '0x95085EAeaeCFb3A049177346945a081d504a7B39'\n",
        "abi = '''\n",
        "   [\n",
        "\t\t\t{\n",
        "\t\t\t\t\"inputs\": [\n",
        "\t\t\t\t\t{\n",
        "\t\t\t\t\t\t\"internalType\": \"string\",\n",
        "\t\t\t\t\t\t\"name\": \"student_id\",\n",
        "\t\t\t\t\t\t\"type\": \"string\"\n",
        "\t\t\t\t\t},\n",
        "\t\t\t\t\t{\n",
        "\t\t\t\t\t\t\"internalType\": \"uint256[8]\",\n",
        "\t\t\t\t\t\t\"name\": \"allGrades\",\n",
        "\t\t\t\t\t\t\"type\": \"uint256[8]\"\n",
        "\t\t\t\t\t}\n",
        "\t\t\t\t],\n",
        "\t\t\t\t\"name\": \"assignGrades\",\n",
        "\t\t\t\t\"outputs\": [],\n",
        "\t\t\t\t\"stateMutability\": \"nonpayable\",\n",
        "\t\t\t\t\"type\": \"function\"\n",
        "\t\t\t},\n",
        "\t\t\t{\n",
        "\t\t\t\t\"inputs\": [\n",
        "\t\t\t\t\t{\n",
        "\t\t\t\t\t\t\"internalType\": \"string\",\n",
        "\t\t\t\t\t\t\"name\": \"student_id\",\n",
        "\t\t\t\t\t\t\"type\": \"string\"\n",
        "\t\t\t\t\t}\n",
        "\t\t\t\t],\n",
        "\t\t\t\t\"name\": \"computeFinalGrade\",\n",
        "\t\t\t\t\"outputs\": [],\n",
        "\t\t\t\t\"stateMutability\": \"nonpayable\",\n",
        "\t\t\t\t\"type\": \"function\"\n",
        "\t\t\t},\n",
        "\t\t\t{\n",
        "\t\t\t\t\"inputs\": [\n",
        "\t\t\t\t\t{\n",
        "\t\t\t\t\t\t\"internalType\": \"string\",\n",
        "\t\t\t\t\t\t\"name\": \"\",\n",
        "\t\t\t\t\t\t\"type\": \"string\"\n",
        "\t\t\t\t\t}\n",
        "\t\t\t\t],\n",
        "\t\t\t\t\"name\": \"finalGrades\",\n",
        "\t\t\t\t\"outputs\": [\n",
        "\t\t\t\t\t{\n",
        "\t\t\t\t\t\t\"internalType\": \"uint256\",\n",
        "\t\t\t\t\t\t\"name\": \"\",\n",
        "\t\t\t\t\t\t\"type\": \"uint256\"\n",
        "\t\t\t\t\t}\n",
        "\t\t\t\t],\n",
        "\t\t\t\t\"stateMutability\": \"view\",\n",
        "\t\t\t\t\"type\": \"function\"\n",
        "\t\t\t},\n",
        "\t\t\t{\n",
        "\t\t\t\t\"inputs\": [\n",
        "\t\t\t\t\t{\n",
        "\t\t\t\t\t\t\"internalType\": \"string\",\n",
        "\t\t\t\t\t\t\"name\": \"\",\n",
        "\t\t\t\t\t\t\"type\": \"string\"\n",
        "\t\t\t\t\t},\n",
        "\t\t\t\t\t{\n",
        "\t\t\t\t\t\t\"internalType\": \"uint256\",\n",
        "\t\t\t\t\t\t\"name\": \"\",\n",
        "\t\t\t\t\t\t\"type\": \"uint256\"\n",
        "\t\t\t\t\t}\n",
        "\t\t\t\t],\n",
        "\t\t\t\t\"name\": \"grades\",\n",
        "\t\t\t\t\"outputs\": [\n",
        "\t\t\t\t\t{\n",
        "\t\t\t\t\t\t\"internalType\": \"uint256\",\n",
        "\t\t\t\t\t\t\"name\": \"\",\n",
        "\t\t\t\t\t\t\"type\": \"uint256\"\n",
        "\t\t\t\t\t}\n",
        "\t\t\t\t],\n",
        "\t\t\t\t\"stateMutability\": \"view\",\n",
        "\t\t\t\t\"type\": \"function\"\n",
        "\t\t\t}\n",
        "\t\t]\n",
        "'''"
      ],
      "metadata": {
        "id": "I_wqkuDArVWE"
      },
      "execution_count": null,
      "outputs": []
    },
    {
      "cell_type": "code",
      "source": [
        "grades_contract = w3.eth.contract(address=address, abi=abi)"
      ],
      "metadata": {
        "id": "lVMss1MDs9PK"
      },
      "execution_count": null,
      "outputs": []
    },
    {
      "cell_type": "markdown",
      "source": [
        "### Task 2.2. (1 point)\n",
        "Write 5+ tests to examine different grade situations."
      ],
      "metadata": {
        "id": "z1Ya40dxuOK6"
      }
    },
    {
      "cell_type": "markdown",
      "source": [
        "Test 1. Intermediate = 9, ExamFinal = 0 => Final grade should be 9 for student1"
      ],
      "metadata": {
        "id": "oH1HpvV4uOvA"
      }
    },
    {
      "cell_type": "code",
      "source": [
        "student_id = 'student1'\n",
        "student_grades = [7, 8, 9, 8, 10, 9, 8, 0]"
      ],
      "metadata": {
        "id": "wVjnJ4FLuVKw"
      },
      "execution_count": null,
      "outputs": []
    },
    {
      "cell_type": "code",
      "source": [
        "tx_assignGrades_test1 = grades_contract.functions.assignGrades(student_id, student_grades).buildTransaction({\n",
        "        'from': address_1,\n",
        "        'gas': 2000000,\n",
        "        'gasPrice': w3.eth.gas_price,\n",
        "        'nonce': w3.eth.getTransactionCount(address_1)\n",
        "    })\n",
        "# Sign the transaction\n",
        "signed_txn = w3.eth.account.sign_transaction(tx_assignGrades_test1, pk_1)\n",
        "\n",
        "# Send the transaction\n",
        "tx_hash = w3.eth.sendRawTransaction(signed_txn.rawTransaction)\n",
        "\n",
        "# Wait for the transaction to be mined\n",
        "tx_receipt = w3.eth.waitForTransactionReceipt(tx_hash)\n",
        "\n",
        "print('https://goerli.etherscan.io/tx/' + tx_receipt['transactionHash'].hex())"
      ],
      "metadata": {
        "colab": {
          "base_uri": "https://localhost:8080/"
        },
        "id": "KYxMkpBJ1yMW",
        "outputId": "e83538ea-1283-4f5d-de0d-bdc701093a84"
      },
      "execution_count": null,
      "outputs": [
        {
          "output_type": "stream",
          "name": "stdout",
          "text": [
            "https://goerli.etherscan.io/tx/0x0202ec3369cefacdcfe534babe302e771175cf8b00c6068bec55c75af3dac7c5\n"
          ]
        }
      ]
    },
    {
      "cell_type": "code",
      "source": [
        "tx_computeFinal_test1 = grades_contract.functions.computeFinalGrade(student_id).buildTransaction(\n",
        "    {\n",
        "        'from': address_1,\n",
        "        'gas': 2000000,\n",
        "        'gasPrice': w3.eth.gas_price,\n",
        "        'nonce': w3.eth.getTransactionCount(address_1)\n",
        "    }\n",
        ") \n",
        "# Sign the transaction\n",
        "signed_txn = w3.eth.account.sign_transaction(tx_computeFinal_test1, pk_1)\n",
        "\n",
        "# Send the transaction\n",
        "tx_hash = w3.eth.sendRawTransaction(signed_txn.rawTransaction)\n",
        "\n",
        "# Wait for the transaction to be mined\n",
        "tx_receipt = w3.eth.waitForTransactionReceipt(tx_hash)\n",
        "\n",
        "print('https://goerli.etherscan.io/tx/' + tx_receipt['transactionHash'].hex())"
      ],
      "metadata": {
        "colab": {
          "base_uri": "https://localhost:8080/"
        },
        "id": "kAzu2rFw2c9m",
        "outputId": "b78d34ae-393d-4cf8-b0db-a77cdad02f1c"
      },
      "execution_count": null,
      "outputs": [
        {
          "output_type": "stream",
          "name": "stdout",
          "text": [
            "https://goerli.etherscan.io/tx/0x8fe88a8a6d11a041777107d4978f2089eaaeda1a2d8ae0b4dde414683a97c680\n"
          ]
        }
      ]
    },
    {
      "cell_type": "code",
      "source": [
        "assert grades_contract.functions.finalGrades(student_id).call() == 9"
      ],
      "metadata": {
        "id": "z_-XE1d_iX-v"
      },
      "execution_count": null,
      "outputs": []
    },
    {
      "cell_type": "markdown",
      "source": [
        "Test 2. Intermediate = 7, ExamFinal = 0 => Final grade should be 7 for student2"
      ],
      "metadata": {
        "id": "yZQ22xK8sJMo"
      }
    },
    {
      "cell_type": "code",
      "source": [
        "student_id = 'student2'\n",
        "student_grades = [5, 6, 7, 6, 8, 7, 7, 0]"
      ],
      "metadata": {
        "id": "WawPz4kFiiS9"
      },
      "execution_count": null,
      "outputs": []
    },
    {
      "cell_type": "code",
      "source": [
        "tx_assignGrades_test2 = grades_contract.functions.assignGrades(student_id, student_grades).buildTransaction({\n",
        "        'from': address_1,\n",
        "        'gas': 2000000,\n",
        "        'gasPrice': w3.eth.gas_price,\n",
        "        'nonce': w3.eth.getTransactionCount(address_1)\n",
        "    })\n",
        "# Sign the transaction\n",
        "signed_txn = w3.eth.account.sign_transaction(tx_assignGrades_test2, pk_1)\n",
        "\n",
        "# Send the transaction\n",
        "tx_hash = w3.eth.sendRawTransaction(signed_txn.rawTransaction)\n",
        "\n",
        "# Wait for the transaction to be mined\n",
        "tx_receipt = w3.eth.waitForTransactionReceipt(tx_hash)\n",
        "\n",
        "print('https://goerli.etherscan.io/tx/' + tx_receipt['transactionHash'].hex())"
      ],
      "metadata": {
        "colab": {
          "base_uri": "https://localhost:8080/"
        },
        "id": "2CtJUdkusVHZ",
        "outputId": "39b2db3e-49e2-4065-d25d-b58509b92e02"
      },
      "execution_count": null,
      "outputs": [
        {
          "output_type": "stream",
          "name": "stdout",
          "text": [
            "https://goerli.etherscan.io/tx/0x459b8f53dc9f8976783c7254c9e7bd384961e29ac23a3718667fc7edbcb70fea\n"
          ]
        }
      ]
    },
    {
      "cell_type": "code",
      "source": [
        "tx_computeFinal_test2 = grades_contract.functions.computeFinalGrade(student_id).buildTransaction(\n",
        "    {\n",
        "        'from': address_1,\n",
        "        'gas': 2000000,\n",
        "        'gasPrice': w3.eth.gas_price,\n",
        "        'nonce': w3.eth.getTransactionCount(address_1)\n",
        "    }\n",
        ") \n",
        "# Sign the transaction\n",
        "signed_txn = w3.eth.account.sign_transaction(tx_computeFinal_test2, pk_1)\n",
        "\n",
        "# Send the transaction\n",
        "tx_hash = w3.eth.sendRawTransaction(signed_txn.rawTransaction)\n",
        "\n",
        "# Wait for the transaction to be mined\n",
        "tx_receipt = w3.eth.waitForTransactionReceipt(tx_hash)\n",
        "\n",
        "print('https://goerli.etherscan.io/tx/' + tx_receipt['transactionHash'].hex())"
      ],
      "metadata": {
        "colab": {
          "base_uri": "https://localhost:8080/"
        },
        "id": "P6rWHoR8saqm",
        "outputId": "10061569-6d05-4a4d-ec64-7af143ffe404"
      },
      "execution_count": null,
      "outputs": [
        {
          "output_type": "stream",
          "name": "stdout",
          "text": [
            "https://goerli.etherscan.io/tx/0x2f691c38316421f41cbeef80c39f8e1d6ff4af55c2cee84c5fbac54dae8e8104\n"
          ]
        }
      ]
    },
    {
      "cell_type": "code",
      "source": [
        "assert grades_contract.functions.finalGrades(student_id).call() == 7"
      ],
      "metadata": {
        "id": "hmObYardskWa"
      },
      "execution_count": null,
      "outputs": []
    },
    {
      "cell_type": "markdown",
      "source": [
        "Test 3. Intermediate = 10, ExamFinal = 10 => Final grade should be 10 for student3"
      ],
      "metadata": {
        "id": "sLbzy4y4tJKY"
      }
    },
    {
      "cell_type": "code",
      "source": [
        "student_id = 'student3'\n",
        "student_grades = [10, 10, 10, 10, 10, 10, 14, 10]"
      ],
      "metadata": {
        "id": "ImjEu-tjtRpq"
      },
      "execution_count": null,
      "outputs": []
    },
    {
      "cell_type": "code",
      "source": [
        "tx_assignGrades_test3 = grades_contract.functions.assignGrades(student_id, student_grades).buildTransaction({\n",
        "        'from': address_1,\n",
        "        'gas': 2000000,\n",
        "        'gasPrice': w3.eth.gas_price,\n",
        "        'nonce': w3.eth.getTransactionCount(address_1)\n",
        "    })\n",
        "# Sign the transaction\n",
        "signed_txn = w3.eth.account.sign_transaction(tx_assignGrades_test3, pk_1)\n",
        "\n",
        "# Send the transaction\n",
        "tx_hash = w3.eth.sendRawTransaction(signed_txn.rawTransaction)\n",
        "\n",
        "# Wait for the transaction to be mined\n",
        "tx_receipt = w3.eth.waitForTransactionReceipt(tx_hash)\n",
        "\n",
        "print('https://goerli.etherscan.io/tx/' + tx_receipt['transactionHash'].hex())"
      ],
      "metadata": {
        "colab": {
          "base_uri": "https://localhost:8080/"
        },
        "id": "s0byN0oKtznH",
        "outputId": "589b79b6-e50a-416a-d903-ab8c4c98c4c9"
      },
      "execution_count": null,
      "outputs": [
        {
          "output_type": "stream",
          "name": "stdout",
          "text": [
            "https://goerli.etherscan.io/tx/0x7915fcbd8319bb6d2197f2b7091a065b9343e2aab107a776ac37449039d0280a\n"
          ]
        }
      ]
    },
    {
      "cell_type": "code",
      "source": [
        "tx_computeFinal_test3 = grades_contract.functions.computeFinalGrade(student_id).buildTransaction(\n",
        "    {\n",
        "        'from': address_1,\n",
        "        'gas': 2000000,\n",
        "        'gasPrice': w3.eth.gas_price,\n",
        "        'nonce': w3.eth.getTransactionCount(address_1)\n",
        "    }\n",
        ") \n",
        "# Sign the transaction\n",
        "signed_txn = w3.eth.account.sign_transaction(tx_computeFinal_test3, pk_1)\n",
        "\n",
        "# Send the transaction\n",
        "tx_hash = w3.eth.sendRawTransaction(signed_txn.rawTransaction)\n",
        "\n",
        "# Wait for the transaction to be mined\n",
        "tx_receipt = w3.eth.waitForTransactionReceipt(tx_hash)\n",
        "\n",
        "print('https://goerli.etherscan.io/tx/' + tx_receipt['transactionHash'].hex())"
      ],
      "metadata": {
        "colab": {
          "base_uri": "https://localhost:8080/"
        },
        "id": "1y6Mo2Cwt8Zo",
        "outputId": "9319f476-664c-463a-e470-53c4f91425d6"
      },
      "execution_count": null,
      "outputs": [
        {
          "output_type": "stream",
          "name": "stdout",
          "text": [
            "https://goerli.etherscan.io/tx/0x2164da15e1304cfc6ec8eb94d4ee39b68b3a4d8cab8ce146329adae8ac1f4b9a\n"
          ]
        }
      ]
    },
    {
      "cell_type": "code",
      "source": [
        "assert grades_contract.functions.finalGrades(student_id).call() == 10"
      ],
      "metadata": {
        "id": "eiwikdPKuCQH"
      },
      "execution_count": null,
      "outputs": []
    },
    {
      "cell_type": "markdown",
      "source": [
        "Test 4. Intermediate = 6.5, ExamFinal = 0 => Final grade should be 7 for student4"
      ],
      "metadata": {
        "id": "WqraKIdmuEaz"
      }
    },
    {
      "cell_type": "code",
      "source": [
        "student_id = 'student4'\n",
        "student_grades = [6, 7, 6, 7, 6, 7, 0, 0]"
      ],
      "metadata": {
        "id": "N0s2XTKEun6I"
      },
      "execution_count": null,
      "outputs": []
    },
    {
      "cell_type": "code",
      "source": [
        "tx_assignGrades_test4 = grades_contract.functions.assignGrades(student_id, student_grades).buildTransaction({\n",
        "        'from': address_1,\n",
        "        'gas': 2000000,\n",
        "        'gasPrice': w3.eth.gas_price,\n",
        "        'nonce': w3.eth.getTransactionCount(address_1)\n",
        "    })\n",
        "# Sign the transaction\n",
        "signed_txn = w3.eth.account.sign_transaction(tx_assignGrades_test4, pk_1)\n",
        "\n",
        "# Send the transaction\n",
        "tx_hash = w3.eth.sendRawTransaction(signed_txn.rawTransaction)\n",
        "\n",
        "# Wait for the transaction to be mined\n",
        "tx_receipt = w3.eth.waitForTransactionReceipt(tx_hash)\n",
        "\n",
        "print('https://goerli.etherscan.io/tx/' + tx_receipt['transactionHash'].hex())"
      ],
      "metadata": {
        "colab": {
          "base_uri": "https://localhost:8080/"
        },
        "id": "Sg1wuS1Lu7nT",
        "outputId": "091d609f-b2a7-4784-df58-eb0dadcb5b8e"
      },
      "execution_count": null,
      "outputs": [
        {
          "output_type": "stream",
          "name": "stdout",
          "text": [
            "https://goerli.etherscan.io/tx/0xaa0f9dd78568d5c291cd698577b2665a662bbeae7e130edc2b99c43c594c6499\n"
          ]
        }
      ]
    },
    {
      "cell_type": "code",
      "source": [
        "tx_computeFinal_test4 = grades_contract.functions.computeFinalGrade(student_id).buildTransaction(\n",
        "    {\n",
        "        'from': address_1,\n",
        "        'gas': 2000000,\n",
        "        'gasPrice': w3.eth.gas_price,\n",
        "        'nonce': w3.eth.getTransactionCount(address_1)\n",
        "    }\n",
        ") \n",
        "# Sign the transaction\n",
        "signed_txn = w3.eth.account.sign_transaction(tx_computeFinal_test4, pk_1)\n",
        "\n",
        "# Send the transaction\n",
        "tx_hash = w3.eth.sendRawTransaction(signed_txn.rawTransaction)\n",
        "\n",
        "# Wait for the transaction to be mined\n",
        "tx_receipt = w3.eth.waitForTransactionReceipt(tx_hash)\n",
        "\n",
        "print('https://goerli.etherscan.io/tx/' + tx_receipt['transactionHash'].hex())"
      ],
      "metadata": {
        "colab": {
          "base_uri": "https://localhost:8080/"
        },
        "id": "hqmMmXdDvY0k",
        "outputId": "01d9838e-5554-4372-ca6a-fa747545842f"
      },
      "execution_count": null,
      "outputs": [
        {
          "output_type": "stream",
          "name": "stdout",
          "text": [
            "https://goerli.etherscan.io/tx/0x1889f767f7d84064fa291991554a24b9718c430e769c9bcf5a7e67d7936d8480\n"
          ]
        }
      ]
    },
    {
      "cell_type": "code",
      "source": [
        "assert grades_contract.functions.finalGrades(student_id).call() == 7"
      ],
      "metadata": {
        "id": "J4MxTc3dvcqG"
      },
      "execution_count": null,
      "outputs": []
    },
    {
      "cell_type": "markdown",
      "source": [
        "Test 5.\n",
        "Intermediate < 6, ExamFinal = 0 => Final grade should be 0 for student5"
      ],
      "metadata": {
        "id": "HXVdQsv2vlE7"
      }
    },
    {
      "cell_type": "code",
      "source": [
        "student_id = 'student5'\n",
        "student_grades = [3, 0, 1, 2, 3, 3, 0, 0]"
      ],
      "metadata": {
        "id": "czGFi6odvyUS"
      },
      "execution_count": null,
      "outputs": []
    },
    {
      "cell_type": "code",
      "source": [
        "tx_assignGrades_test5 = grades_contract.functions.assignGrades(student_id, student_grades).buildTransaction({\n",
        "        'from': address_1,\n",
        "        'gas': 2000000,\n",
        "        'gasPrice': w3.eth.gas_price,\n",
        "        'nonce': w3.eth.getTransactionCount(address_1)\n",
        "    })\n",
        "# Sign the transaction\n",
        "signed_txn = w3.eth.account.sign_transaction(tx_assignGrades_test5, pk_1)\n",
        "\n",
        "# Send the transaction\n",
        "tx_hash = w3.eth.sendRawTransaction(signed_txn.rawTransaction)\n",
        "\n",
        "# Wait for the transaction to be mined\n",
        "tx_receipt = w3.eth.waitForTransactionReceipt(tx_hash)\n",
        "\n",
        "print('https://goerli.etherscan.io/tx/' + tx_receipt['transactionHash'].hex())"
      ],
      "metadata": {
        "colab": {
          "base_uri": "https://localhost:8080/"
        },
        "id": "7OY-H7i8wEDs",
        "outputId": "a436d3ba-6bc5-4158-c8e4-f528823fa03d"
      },
      "execution_count": null,
      "outputs": [
        {
          "output_type": "stream",
          "name": "stdout",
          "text": [
            "https://goerli.etherscan.io/tx/0xf3644ba188ffec9e809e23b0e8a9e6d2ea2167d3a36a97d5102204bb2698adba\n"
          ]
        }
      ]
    },
    {
      "cell_type": "code",
      "source": [
        "tx_computeFinal_test5 = grades_contract.functions.computeFinalGrade(student_id).buildTransaction(\n",
        "    {\n",
        "        'from': address_1,\n",
        "        'gas': 2000000,\n",
        "        'gasPrice': w3.eth.gas_price,\n",
        "        'nonce': w3.eth.getTransactionCount(address_1)\n",
        "    }\n",
        ") \n",
        "# Sign the transaction\n",
        "signed_txn = w3.eth.account.sign_transaction(tx_computeFinal_test5, pk_1)\n",
        "\n",
        "# Send the transaction\n",
        "tx_hash = w3.eth.sendRawTransaction(signed_txn.rawTransaction)\n",
        "\n",
        "# Wait for the transaction to be mined\n",
        "tx_receipt = w3.eth.waitForTransactionReceipt(tx_hash)\n",
        "\n",
        "print('https://goerli.etherscan.io/tx/' + tx_receipt['transactionHash'].hex())"
      ],
      "metadata": {
        "colab": {
          "base_uri": "https://localhost:8080/"
        },
        "id": "MPLNHoUjwHtS",
        "outputId": "2024eed6-067f-4a76-8547-4ab068faa90f"
      },
      "execution_count": null,
      "outputs": [
        {
          "output_type": "stream",
          "name": "stdout",
          "text": [
            "https://goerli.etherscan.io/tx/0xb885415f82faf5c6adfb1b2d404b2601c75a175745b6b32ccea7a8d41a998348\n"
          ]
        }
      ]
    },
    {
      "cell_type": "code",
      "source": [
        "assert grades_contract.functions.finalGrades(student_id).call() == 0"
      ],
      "metadata": {
        "id": "MfIcgPBowLYd"
      },
      "execution_count": null,
      "outputs": []
    },
    {
      "cell_type": "markdown",
      "source": [
        "### Task 2.3. (2 points)\n",
        "Test smart contract with Hardhat."
      ],
      "metadata": {
        "id": "hnxAKrB5wd3O"
      }
    },
    {
      "cell_type": "markdown",
      "source": [
        "FinalGrade.js file in the /test/FinalGrade.js folder looks as follows:"
      ],
      "metadata": {
        "id": "PPJRATAsAnmq"
      }
    },
    {
      "cell_type": "code",
      "source": [
        "'''\n",
        "const { expect } = require(\"chai\");\n",
        "\n",
        "describe(\"FinalGrade\", function () {\n",
        "  let finalGrade;\n",
        "\n",
        "  beforeEach(async function () {\n",
        "    const FinalGrade = await ethers.getContractFactory(\"FinalGrade\");\n",
        "    finalGrade = await FinalGrade.deploy();\n",
        "    await finalGrade.deployed();\n",
        "  });\n",
        "\n",
        "  it(\"should assign and compute final grades correctly\", async function () {\n",
        "    await finalGrade.assignGrades(\"1\", [3, 0, 1, 2, 3, 3, 0, 0]);\n",
        "    await finalGrade.computeFinalGrade(\"1\");\n",
        "\n",
        "    expect(await finalGrade.finalGrades(\"1\")).to.equal(0);\n",
        "\n",
        "    await finalGrade.assignGrades(\"2\", [6, 7, 6, 7, 6, 7, 0, 0]);\n",
        "    await finalGrade.computeFinalGrade(\"2\");\n",
        "\n",
        "    expect(await finalGrade.finalGrades(\"2\")).to.equal(7);\n",
        "  });\n",
        "});\n",
        "'''"
      ],
      "metadata": {
        "id": "BGXG5VTf4CUO"
      },
      "execution_count": null,
      "outputs": []
    },
    {
      "cell_type": "markdown",
      "source": [
        "![Screenshot 2023-03-09 at 22.54.13.png](data:image/png;base64,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)"
      ],
      "metadata": {
        "id": "vu_Excqh8bHD"
      }
    }
  ]
}