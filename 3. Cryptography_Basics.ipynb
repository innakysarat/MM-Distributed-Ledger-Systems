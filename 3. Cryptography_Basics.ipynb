{
  "cells": [
    {
      "cell_type": "markdown",
      "metadata": {
        "id": "B0EY_2qsrl4D"
      },
      "source": [
        "# HA 3"
      ]
    },
    {
      "cell_type": "code",
      "execution_count": 1,
      "metadata": {
        "colab": {
          "base_uri": "https://localhost:8080/"
        },
        "id": "MWY0MbXSrl4E",
        "outputId": "4fad93b6-6db4-49cd-ed74-73b7cc7d50c4"
      },
      "outputs": [
        {
          "output_type": "stream",
          "name": "stdout",
          "text": [
            "Looking in indexes: https://pypi.org/simple, https://us-python.pkg.dev/colab-wheels/public/simple/\n",
            "Requirement already satisfied: sympy in /usr/local/lib/python3.7/dist-packages (1.7.1)\n",
            "Requirement already satisfied: mpmath>=0.19 in /usr/local/lib/python3.7/dist-packages (from sympy) (1.2.1)\n"
          ]
        }
      ],
      "source": [
        "!pip install sympy"
      ]
    },
    {
      "cell_type": "code",
      "execution_count": 2,
      "metadata": {
        "id": "oZUd90BJrl4F"
      },
      "outputs": [],
      "source": [
        "import sympy\n",
        "import random\n",
        "import hashlib\n",
        "import math "
      ]
    },
    {
      "cell_type": "markdown",
      "metadata": {
        "id": "eOfKIFZYrl4F"
      },
      "source": [
        "### Problem 1 (1 point)"
      ]
    },
    {
      "cell_type": "markdown",
      "metadata": {
        "id": "1ZCp4yGUrl4F"
      },
      "source": [
        "Diffie–Hellman key exchange protocol is one of the earliest practical examples of public key exchange implemented within the field of cryptography. Published in 1976 by Diffie and Hellman, this is the earliest publicly known work that proposed the idea of a private key and a corresponding public key. "
      ]
    },
    {
      "cell_type": "markdown",
      "metadata": {
        "id": "hkjABqmArl4F"
      },
      "source": [
        "1) Implement function to generate common secret key within multiplicative group of given Finite field with known generator. \n",
        "\n",
        "*Note. You can assume that all the numbers are small, for example, less than 1000.*"
      ]
    },
    {
      "cell_type": "code",
      "execution_count": 16,
      "metadata": {
        "collapsed": true,
        "id": "q3kRL0qPrl4F"
      },
      "outputs": [],
      "source": [
        "def generate_secret(P, G, a, b):\n",
        "  # key share\n",
        "  x = int(pow(G, a, P)) \n",
        "\n",
        "  # key share\n",
        "  y = int(pow(G, b, P)) \n",
        "     \n",
        "  # generated secret key\n",
        "  ka = int(pow(y, a, P))\n",
        "     \n",
        "  # generated secret key\n",
        "  kb = int(pow(x, b, P))\n",
        "  \n",
        "  return ka, kb"
      ]
    },
    {
      "cell_type": "markdown",
      "metadata": {
        "id": "6crkf18Hrl4F"
      },
      "source": [
        "2) Test your solution in GF(17) with generator g=11. Bobs' open key B=11, Alice private key is a=7"
      ]
    },
    {
      "cell_type": "code",
      "execution_count": 22,
      "metadata": {
        "collapsed": true,
        "colab": {
          "base_uri": "https://localhost:8080/"
        },
        "id": "CQYmDyxrrl4F",
        "outputId": "11b6ea9c-b757-4772-da01-fd67380e0c94"
      },
      "outputs": [
        {
          "output_type": "stream",
          "name": "stdout",
          "text": [
            "13\n",
            "(12, 12)\n"
          ]
        }
      ],
      "source": [
        "P = 17\n",
        "G = 11\n",
        "a = 7 #Alice private key\n",
        "b = sympy.randprime(3, P) #random Bob's private key selected\n",
        "print(b)\n",
        "print(generate_secret(P, G, a, b))"
      ]
    },
    {
      "cell_type": "markdown",
      "metadata": {
        "id": "RWLHhiN5rl4G"
      },
      "source": [
        "### Problem 2 (3 points)"
      ]
    },
    {
      "cell_type": "markdown",
      "metadata": {
        "id": "Vrhff-dNrl4G"
      },
      "source": [
        "El Gamal protocol is widely used in cryptography. In this task we will ask you to implement your own El-Gamal encryption scheme on Python."
      ]
    },
    {
      "cell_type": "markdown",
      "metadata": {
        "id": "Vn3CwdBdrl4G"
      },
      "source": [
        "1) Implement function for generating keys. The function must generate big random prime number (problem of generating big prime numbers was discussed within the lectures). (1 point)\n",
        "\n",
        "*Note. You can assume that all the numbers are small, for example, less than $2^{32}$. But you **must** use a primality test as a part of the function to get a full score.*"
      ]
    },
    {
      "cell_type": "code",
      "execution_count": 3,
      "metadata": {
        "colab": {
          "base_uri": "https://localhost:8080/"
        },
        "id": "2V61cnmdrl4G",
        "outputId": "f213bb9d-51ab-4844-e5eb-a4b329517857"
      },
      "outputs": [
        {
          "output_type": "stream",
          "name": "stdout",
          "text": [
            "private key : x = 53679172022427 g = 102028091956141 p = 160719367789403\n",
            "public key : y = 11671582068884 g = 102028091956141 p = 160719367789403\n"
          ]
        }
      ],
      "source": [
        "# p - big prime number\n",
        "# random x (private key); gcd(x, p) = 1; x < p\n",
        "# random number g; g < p\n",
        "# y = g^x mod p\n",
        "# public key (y, g, p)\n",
        "# private key (x, g, p)\n",
        "\n",
        "def gcd(a, b):\n",
        "    if a < b:\n",
        "        return gcd(b, a)\n",
        "    elif a % b == 0:\n",
        "        return b\n",
        "    else:\n",
        "        return gcd(b, a % b)\n",
        "    \n",
        "def generate_key(p):\n",
        "    key = random.randint(math.pow(10, 10), p)\n",
        "    while gcd(p, key) != 1:\n",
        "        key = random.randint(math.pow(10, 10), p)\n",
        "        \n",
        "    return key\n",
        "\n",
        "def computation(g, x, p):\n",
        "    t = 1\n",
        "    y = g\n",
        " \n",
        "    while x > 0:\n",
        "        if x % 2 != 0:\n",
        "            t = (t * y) % p\n",
        "        y = (y * y) % p\n",
        "        x = int(x / 2)\n",
        " \n",
        "    return t % p\n",
        "\n",
        "def main():\n",
        "    p = sympy.randprime(math.pow(10, 10), math.pow(10, 15))\n",
        "    g = random.randint(2, p)\n",
        "    private_key = generate_key(p)\n",
        "    y = computation(g, private_key, p)\n",
        "    print(\"private key : x =\", private_key, \"g =\",  g, \"p =\", p)\n",
        "    print(\"public key : y =\", y, \"g =\", g, \"p =\", p)\n",
        "    \n",
        "if __name__ == '__main__':\n",
        "    main()"
      ]
    },
    {
      "cell_type": "markdown",
      "metadata": {
        "id": "1eEYhm8frl4G"
      },
      "source": [
        "2) Implement functions that realize the encryption and decryption in El Gamal protocol. (1 points)"
      ]
    },
    {
      "cell_type": "code",
      "execution_count": 4,
      "metadata": {
        "colab": {
          "base_uri": "https://localhost:8080/"
        },
        "id": "weE6l66wrl4G",
        "outputId": "119d602f-e0de-4f70-9dad-f8e0f952942b"
      },
      "outputs": [
        {
          "output_type": "stream",
          "name": "stdout",
          "text": [
            "Message after decryption:  Hello, world!\n"
          ]
        }
      ],
      "source": [
        "# random k; k < p - 1; gcd(k, p) = 1\n",
        "# a = g^k mod p\n",
        "# b = g^(x*k) mod p\n",
        "# message: (a, b * M)\n",
        "def encryption(msg, g, p, y):\n",
        "    en_msg = []\n",
        "        \n",
        "    k = generate_key(p)\n",
        "    a = computation(g, k, p)\n",
        "    b = computation(y, k, p)\n",
        "    \n",
        "    for i in range(0, len(msg)):\n",
        "        en_msg.append(msg[i])\n",
        "        \n",
        "    for i in range(0, len(en_msg)):\n",
        "        en_msg[i] = b * ord(en_msg[i])\n",
        "    \n",
        "    return a, en_msg\n",
        "\n",
        "# b' = a^x = g^(k*x) mod p\n",
        "# (b * M) / b' = M (b = b')\n",
        "def decryption(en_msg, a, x, p):\n",
        "    decr_msg = []\n",
        "    \n",
        "    b_ = computation(a, x, p)\n",
        "    for i in range(0, len(en_msg)):\n",
        "        decr_msg.append(chr(int(en_msg[i] / b_)))\n",
        "         \n",
        "    return ''. join(decr_msg)\n",
        "\n",
        "def main():\n",
        "    a, en_msg = encryption(msg, g, p, y)\n",
        "    print(\"Message after decryption: \", decryption(en_msg, a, x, p))\n",
        "\n",
        "if __name__ == '__main__':\n",
        "    p = sympy.randprime(math.pow(10, 10), math.pow(10, 15))\n",
        "    g = random.randint(2, p)\n",
        "    x = generate_key(p)\n",
        "    y = computation(g, x, p)\n",
        "    msg = 'Hello, world!'\n",
        "    main()    "
      ]
    },
    {
      "cell_type": "markdown",
      "metadata": {
        "id": "NYwQ4F9mrl4G"
      },
      "source": [
        "3) Calculate Hash of your name by SHA-1 and test El Gamal encryption/decryption functions on its 16-bit prefix. (1 points)"
      ]
    },
    {
      "cell_type": "code",
      "execution_count": 5,
      "metadata": {
        "colab": {
          "base_uri": "https://localhost:8080/"
        },
        "id": "0_8yuc4Krl4G",
        "outputId": "9f51d5ad-4dee-4093-ef25-b00e86341579"
      },
      "outputs": [
        {
          "output_type": "stream",
          "name": "stdout",
          "text": [
            "Hash:  4d717d507843a696c39d3d1e7857e2155a31f32d\n",
            "Prefix after decryption:  4d71\n"
          ]
        }
      ],
      "source": [
        "sha1 = hashlib.sha1(b\"Inna\").hexdigest()\n",
        "print(\"Hash: \", sha1)\n",
        "\n",
        "prefix = sha1[0:4]\n",
        "p = sympy.randprime(math.pow(10, 10), math.pow(10, 15))\n",
        "g = random.randint(2, p)\n",
        "x = generate_key(p)\n",
        "y = computation(g, x, p)\n",
        "a, en_msg = encryption(prefix, g, p, y)\n",
        "print(\"Prefix after decryption: \", decryption(en_msg, a, x, p))"
      ]
    },
    {
      "cell_type": "markdown",
      "metadata": {
        "id": "HiN_bwK-rl4H"
      },
      "source": [
        "### Problem 3 (4 points)"
      ]
    },
    {
      "cell_type": "markdown",
      "metadata": {
        "id": "Oewp3uNgrl4H"
      },
      "source": [
        "Elliptic curves due to their efficient hardware realization widely used in modern secure communication channels. The main thing that lies inside their cryptographic hardness is that we can break them only by greed search over all group points. In this task, we will ask you to write Python function that returns all group elements of a certain elliptic curve over a finite field "
      ]
    },
    {
      "cell_type": "markdown",
      "metadata": {
        "id": "SvaZc0gFrl4H"
      },
      "source": [
        "1) Write a python function that list all points of elliptic curve $y^2=x^3+7$ over $F_{127}$ (1 point)"
      ]
    },
    {
      "cell_type": "markdown",
      "metadata": {
        "id": "_QvHxEB4rl4H"
      },
      "source": [
        "*Note. $127 = 2^7-1$ is the fourth Mersenne prime.*"
      ]
    },
    {
      "cell_type": "code",
      "execution_count": 23,
      "metadata": {
        "colab": {
          "base_uri": "https://localhost:8080/"
        },
        "id": "rXqXrDb6rl4H",
        "outputId": "52c22094-6a73-42da-aed9-381fe9c8ccab"
      },
      "outputs": [
        {
          "output_type": "stream",
          "name": "stdout",
          "text": [
            "[None, (1, 32), (1, 95), (2, 53), (2, 74), (3, 62), (3, 65), (4, 43), (4, 84), (8, 30), (8, 97), (11, 24), (11, 103), (12, 46), (12, 81), (14, 46), (14, 81), (17, 27), (17, 100), (18, 39), (18, 88), (19, 32), (19, 95), (21, 39), (21, 88), (24, 49), (24, 78), (25, 30), (25, 97), (28, 49), (28, 78), (32, 3), (32, 124), (34, 24), (34, 103), (38, 53), (38, 74), (39, 12), (39, 115), (41, 27), (41, 100), (45, 33), (45, 94), (46, 51), (46, 76), (47, 43), (47, 84), (51, 18), (51, 109), (52, 36), (52, 91), (57, 62), (57, 65), (58, 38), (58, 89), (60, 19), (60, 108), (67, 62), (67, 65), (69, 27), (69, 100), (70, 19), (70, 108), (71, 63), (71, 64), (72, 16), (72, 111), (75, 49), (75, 78), (76, 43), (76, 84), (78, 50), (78, 77), (79, 63), (79, 64), (80, 18), (80, 109), (82, 24), (82, 103), (84, 16), (84, 111), (85, 50), (85, 77), (86, 38), (86, 89), (87, 53), (87, 74), (88, 39), (88, 88), (91, 50), (91, 77), (93, 33), (93, 94), (94, 30), (94, 97), (96, 51), (96, 76), (98, 16), (98, 111), (99, 36), (99, 91), (100, 3), (100, 124), (101, 46), (101, 81), (103, 36), (103, 91), (104, 63), (104, 64), (106, 12), (106, 115), (107, 32), (107, 95), (109, 12), (109, 115), (110, 38), (110, 89), (112, 51), (112, 76), (116, 33), (116, 94), (122, 3), (122, 124), (123, 18), (123, 109), (124, 19), (124, 108)]\n"
          ]
        }
      ],
      "source": [
        "INFINITY_PNT = None\n",
        "\n",
        "class EllipticCurve:\n",
        "    def __init__(self, a, b, p):\n",
        "        self.a = a\n",
        "        self.b = b\n",
        "        self.p = p\n",
        "        self.points = []\n",
        "        self.findPoints()\n",
        "\n",
        "    def findPoints(self):\n",
        "        self.points.append(INFINITY_PNT)\n",
        "        for x in range(self.p):\n",
        "            for y in range(self.p):\n",
        "                if self.isEqual(y * y, x * x * x + self.a * x + self.b):\n",
        "                    self.points.append((x,y))\n",
        "\n",
        "\n",
        "    def addition(self, p1, p2):\n",
        "        if p1 == INFINITY_PNT:\n",
        "            return p2\n",
        "        if p2 == INFINITY_PNT:\n",
        "            return p1\n",
        "\n",
        "        x1, y1, x2, y2 = p1[0], p1[1], p2[0], p2[1]\n",
        "  \n",
        "        if self.isEqual(x1, x2) and self.isEqual(y1, -y2):\n",
        "            return INFINITY_PNT\n",
        "\n",
        "        if self.isEqual(x1, x2) and self.isEqual(y1, y2):\n",
        "            u = self.modP((3 * x1 * x1 + self.a) * self.inverse(2 * y1))\n",
        "        else:\n",
        "            u = self.modP((y1 - y2) * self.inverse(x1 - x2))\n",
        "\n",
        "        v = self.modP(y1 - u * x1)\n",
        "        x3 = self.modP(u * u - x1 - x2)\n",
        "        y3 = self.modP(-u * x3 - v)\n",
        "\n",
        "        return (x3, y3)\n",
        "\n",
        "    def countPoints(self):\n",
        "        return len(self.points)\n",
        "\n",
        "    def printPoints(self):\n",
        "        print(self.points)\n",
        "\n",
        "    def modP(self, x):\n",
        "        return x % self.p\n",
        "\n",
        "    def isEqual(self, x, y):\n",
        "        return self.modP(x - y) == 0\n",
        "\n",
        "    def inverse(self, x):\n",
        "        for y in range(self.p):\n",
        "            if self.isEqual(x * y, 1):\n",
        "                return y\n",
        "        return None\n",
        "\n",
        "p = 127\n",
        "ec = EllipticCurve(0, 7, p)\n",
        "ec.printPoints()"
      ]
    },
    {
      "cell_type": "markdown",
      "metadata": {
        "collapsed": true,
        "id": "MohxFbP1rl4H"
      },
      "source": [
        "2) Compare the number of points with Hasse’s estimate $|N-(q+1)|\\leq 2{\\sqrt  {q}}$. (1 point)"
      ]
    },
    {
      "cell_type": "code",
      "execution_count": 24,
      "metadata": {
        "colab": {
          "base_uri": "https://localhost:8080/"
        },
        "id": "dXAwNT7lrl4H",
        "outputId": "c2916141-221e-4eff-d94b-ba525190c43a"
      },
      "outputs": [
        {
          "output_type": "stream",
          "name": "stdout",
          "text": [
            "Number of points =  127\n",
            "Hasse's theorem is approved\n"
          ]
        }
      ],
      "source": [
        "N = ec.countPoints()\n",
        "q = 127\n",
        "print(\"Number of points = \", N)\n",
        "if abs(N - (q + 1)) <= 2 * math.sqrt(q):\n",
        "  print(\"Hasse's theorem is approved\")\n",
        "else:\n",
        "  print(\"Hasse's theorem is declined\")"
      ]
    },
    {
      "cell_type": "markdown",
      "metadata": {
        "id": "V4QEmlFjrl4H"
      },
      "source": [
        "3) Prove that the point\n",
        "$A = (19, 32)$ belongs to the elliptic curve and construct a sequence of $B_n = nA, n = 1, ..., 100$. (2 points)"
      ]
    },
    {
      "cell_type": "code",
      "source": [
        "if (19, 32) in ec.points:\n",
        "  print(\"Point 𝐴=(19,32) belongs to the elliptic curve\")\n",
        "  print(ec.points.index((19, 32)))\n",
        "else:\n",
        "  print(\"Point 𝐴=(19,32) does not belong to the elliptic curve\")"
      ],
      "metadata": {
        "colab": {
          "base_uri": "https://localhost:8080/"
        },
        "id": "Ev83elugutcm",
        "outputId": "708f5ec9-f0d2-4ad4-ae53-e60cfa48fce4"
      },
      "execution_count": 8,
      "outputs": [
        {
          "output_type": "stream",
          "name": "stdout",
          "text": [
            "Point 𝐴=(19,32) belongs to the elliptic curve\n",
            "21\n"
          ]
        }
      ]
    },
    {
      "cell_type": "code",
      "execution_count": 9,
      "metadata": {
        "colab": {
          "base_uri": "https://localhost:8080/"
        },
        "id": "Yt_baX8qrl4H",
        "outputId": "7cbc325c-eac9-4477-d276-b7b88575802b"
      },
      "outputs": [
        {
          "output_type": "stream",
          "name": "stdout",
          "text": [
            "[(19, 32), (11, 24), (98, 16), (123, 18), (79, 64), (110, 38), (58, 38), (38, 53), (67, 62), (91, 50), (25, 30), (69, 27), (86, 89), (41, 27), (103, 91), (122, 3), (60, 19), (24, 78), (1, 32), (107, 95), (75, 78), (109, 12), (21, 39), (4, 84), (2, 53), (17, 100), (104, 64), (76, 84), (96, 76), (116, 94), (99, 91), (71, 63), (87, 74), (94, 30), (45, 94), (101, 46), (106, 12), (34, 24), (28, 49), (82, 103), (124, 19), (14, 46), (112, 76), (57, 62), (8, 97), (52, 36), (51, 18), (18, 39), (12, 46), (100, 3), (80, 109), (47, 43), (3, 65), (78, 50), (46, 76), (88, 39), (72, 16), (70, 108), (39, 115), (84, 111), (32, 3), (93, 94), (85, 50), (85, 77), (93, 33), (32, 124), (84, 16), (39, 12), (70, 19), (72, 111), (88, 88), (46, 51), (78, 77), (3, 62), (47, 84), (80, 18), (100, 124), (12, 81), (18, 88), (51, 109), (52, 91), (8, 30), (57, 65), (112, 51), (14, 81), (124, 108), (82, 24), (28, 78), (34, 103), (106, 115), (101, 81), (45, 33), (94, 97), (87, 53), (71, 64), (99, 36), (116, 33), (96, 51), (76, 43), (104, 63)]\n",
            "100\n"
          ]
        }
      ],
      "source": [
        "seq = []\n",
        "a = ec.points[21]\n",
        "for n in range(1, 101):\n",
        "  seq.append(a)\n",
        "  a = ec.addition(a, ec.points[21])\n",
        "print(seq)\n",
        "print(len(seq))"
      ]
    },
    {
      "cell_type": "markdown",
      "metadata": {
        "id": "hxHlqxBJrl4H"
      },
      "source": [
        "### Problem 4 (2 points)"
      ]
    },
    {
      "cell_type": "markdown",
      "metadata": {
        "id": "2k6XBaoGrl4H"
      },
      "source": [
        "Let $p = 601$, $q = 7$, $e = 1463$ be the setup of the RSA algorithm. Compute $d$, sign the plane message $m = 58$ and check the signature."
      ]
    },
    {
      "cell_type": "code",
      "source": [
        "def egcd(a, b):\n",
        "    if a == 0:\n",
        "        return (b, 0, 1)\n",
        "    else:\n",
        "        g, y, x = egcd(b % a, a)\n",
        "        return (g, x - (b // a) * y, y)\n",
        "\n",
        "def modinv(a, m):\n",
        "    g, x, y = egcd(a, m)\n",
        "    if g != 1:\n",
        "        raise Exception('Modular inverse does not exist')\n",
        "    else:\n",
        "        return x % m"
      ],
      "metadata": {
        "id": "uFwb2Fdr__uY"
      },
      "execution_count": 13,
      "outputs": []
    },
    {
      "cell_type": "code",
      "execution_count": 18,
      "metadata": {
        "colab": {
          "base_uri": "https://localhost:8080/"
        },
        "id": "eagv4RcDrl4H",
        "outputId": "57f9d74d-502f-4b55-89a7-10b9cf6415b7"
      },
      "outputs": [
        {
          "output_type": "stream",
          "name": "stdout",
          "text": [
            "Decryption key = 1127\n",
            "Signature = 2937\n",
            "Signature is valid\n"
          ]
        }
      ],
      "source": [
        "p = 601\n",
        "q = 7\n",
        "e = 1463 #public key\n",
        "m = 58\n",
        "n = p * q\n",
        "phi = (p - 1) * (q - 1)\n",
        "# d = e^-1 mod (p-1)*(q-1) \n",
        "# pow(a,-b,c) == pow((a^-1) mod c, b, c)\n",
        "d = pow(modinv(e, phi), 1, phi) #private key\n",
        "print(\"Decryption key =\", d)\n",
        "\n",
        "# digital signature S=m^e mod n\n",
        "# sends (M, S)\n",
        "# m1=S^d mod n \n",
        "\n",
        "# Signature \n",
        "S = (m**e) % n\n",
        "print(\"Signature =\", S)\n",
        "\n",
        "m1 = (S**d) % n\n",
        "if m == m1:\n",
        "    print(\"Signature is valid\")"
      ]
    },
    {
      "cell_type": "markdown",
      "metadata": {
        "id": "2aFVFFK_rl4H"
      },
      "source": [
        "### Problem 5 (4* points)\n",
        "\n",
        "*bonus problem"
      ]
    },
    {
      "cell_type": "markdown",
      "metadata": {
        "id": "b_tWpKpmrl4I"
      },
      "source": [
        "Consider an elliptic curve $y^2 = x^3 - 2 x - 1$."
      ]
    },
    {
      "cell_type": "markdown",
      "metadata": {
        "id": "cpY20Jjwrl4I"
      },
      "source": [
        "1) (1 point) Plot the curve for $(x, y) \\in (-19, 19)$. Plot $$\\{(x \\mod 19, y \\mod 19) \\; | \\;  (x, y) \\in (-19 k, 19 k)^2 \\; and \\; y^2 = x^3 - 2 x - 1\\}$$ for $k = 1, \\dots, 5$. "
      ]
    },
    {
      "cell_type": "code",
      "execution_count": null,
      "metadata": {
        "id": "IVWaC0-Yrl4I"
      },
      "outputs": [],
      "source": []
    },
    {
      "cell_type": "markdown",
      "metadata": {
        "id": "tq4Lxy35rl4I"
      },
      "source": [
        "2) (1 point) Scatter all the integer points of curve $y^2 = x^3 - 2 x - 1$ $\\mod 19$. How many points are not in $$\\{(x \\mod 19, y \\mod 19) \\; | \\;  (x, y) \\in (-19 \\cdot 5, 19  \\cdot 5)^2 \\; and \\; y^2 = x^3 - 2 x - 1\\}?$$ "
      ]
    },
    {
      "cell_type": "code",
      "execution_count": null,
      "metadata": {
        "id": "zhtnBp6rrl4I"
      },
      "outputs": [],
      "source": []
    },
    {
      "cell_type": "markdown",
      "metadata": {
        "id": "qytBrFQ7rl4I"
      },
      "source": [
        "3) (2 points) Choose integer examples for all three elliptic curve $y^2 = x^3 - 2 x - 1$ addition cases and illustrate them with (straight) lines."
      ]
    },
    {
      "cell_type": "code",
      "execution_count": null,
      "metadata": {
        "id": "qZHOisa-rl4I"
      },
      "outputs": [],
      "source": []
    }
  ],
  "metadata": {
    "kernelspec": {
      "display_name": "Python 3 (ipykernel)",
      "language": "python",
      "name": "python3"
    },
    "language_info": {
      "codemirror_mode": {
        "name": "ipython",
        "version": 3
      },
      "file_extension": ".py",
      "mimetype": "text/x-python",
      "name": "python",
      "nbconvert_exporter": "python",
      "pygments_lexer": "ipython3",
      "version": "3.8.9"
    },
    "colab": {
      "provenance": []
    }
  },
  "nbformat": 4,
  "nbformat_minor": 0
}