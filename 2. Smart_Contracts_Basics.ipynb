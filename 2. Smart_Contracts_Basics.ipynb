{
 "cells": [
  {
   "cell_type": "code",
   "execution_count": 4,
   "id": "5536a3fa",
   "metadata": {},
   "outputs": [],
   "source": [
    "from web3 import Web3"
   ]
  },
  {
   "cell_type": "code",
   "execution_count": 106,
   "id": "890be7a2",
   "metadata": {},
   "outputs": [],
   "source": [
    "address_1 = \"0xa5C081CDfc71E3c0D7B8fc3644C66561bb698B29\"\n",
    "address_2 = \"0x68Ff5FB51946fB58352E64a4d8A057568c4B21D2\"\n",
    "private_key_1 = 'f049286da578c5cea4b95d89c3e5f77cdab8c8d439ed7ce339fba3bc73b32ca8'"
   ]
  },
  {
   "cell_type": "markdown",
   "id": "06093eaa",
   "metadata": {},
   "source": [
    "## Task 1\n",
    "1. (1 point) Create a user interacting interface to connect to different blockchain networks, i.e. main net, testnets (any two), and ganache"
   ]
  },
  {
   "cell_type": "code",
   "execution_count": 11,
   "id": "5bab37ba",
   "metadata": {},
   "outputs": [],
   "source": [
    "def connect_to_blockchain_network(userInput):\n",
    "    \n",
    "    if userInput == '1':\n",
    "        network = 'HTTP://127.0.0.1:7545'\n",
    "        name = 'Ganache'\n",
    "    if userInput == '2':\n",
    "        network = 'https://eth-goerli.g.alchemy.com/v2/ynoAZmf53Z1JRkWM7lDO4nSeo3_zMkR2'\n",
    "        name = 'Goerli'\n",
    "    if userInput == '3':\n",
    "        network = 'https://eth-goerli.g.alchemy.com/v2/tT10wYUyBWOBGnHJ1OBd-_8_Dv5jnNup'\n",
    "        name = 'Goerli-2'\n",
    "    if userInput == '4':\n",
    "        network = 'https://eth-mainnet.g.alchemy.com/v2/dR8eEPgDX24fL43824Z7-fMYPGY0szwY'\n",
    "        name = 'Mainnet'\n",
    "\n",
    "    web3  = Web3(Web3.HTTPProvider(network))\n",
    "\n",
    "    print(f\"Connected to {name}:\", web3.isConnected())"
   ]
  },
  {
   "cell_type": "code",
   "execution_count": 13,
   "id": "2177ea3c",
   "metadata": {},
   "outputs": [
    {
     "name": "stdout",
     "output_type": "stream",
     "text": [
      "\n",
      "Available blockchain networks:\n",
      "1. Ganache\n",
      "2. Goerli\n",
      "3. Goerli 2\n",
      "4. Mainnet\n",
      "\n",
      "To connect to a blockchain network enter corresponding number (1-4): 2\n",
      "\n",
      "Connected to Goerli: True\n"
     ]
    }
   ],
   "source": [
    "print('''\n",
    "Available blockchain networks:\n",
    "1. Ganache\n",
    "2. Goerli\n",
    "3. Goerli 2\n",
    "4. Mainnet\n",
    "'''\n",
    ")\n",
    "val = input(\"To connect to a blockchain network enter corresponding number (1-4): \")\n",
    "print()\n",
    "connect_to_blockchain_network(val)"
   ]
  },
  {
   "cell_type": "markdown",
   "id": "18d97664",
   "metadata": {},
   "source": [
    "## Task 2\n",
    "2. (1 point) Get some Ethereum test coins to your testnet address_1 from any source. Provide the Transaction link of the testnet work"
   ]
  },
  {
   "cell_type": "markdown",
   "id": "91cf31cc",
   "metadata": {},
   "source": [
    "Transaction link: https://goerli.etherscan.io/tx/0x0abfdaf19d88a076a9af77a3d696bf7b9ff5495d8304bdea6aaf053d9aaa37f5"
   ]
  },
  {
   "cell_type": "markdown",
   "id": "66320523",
   "metadata": {},
   "source": [
    "## Task 3\n",
    "\n",
    "3. (2 points) From Task_1 connect to Ethereum network"
   ]
  },
  {
   "cell_type": "code",
   "execution_count": 83,
   "id": "1d4691e6",
   "metadata": {},
   "outputs": [
    {
     "name": "stdout",
     "output_type": "stream",
     "text": [
      "Connected to Goerli: True\n"
     ]
    }
   ],
   "source": [
    "web3  = Web3(Web3.HTTPProvider('https://eth-goerli.g.alchemy.com/v2/ynoAZmf53Z1JRkWM7lDO4nSeo3_zMkR2'))\n",
    "print(f\"Connected to Goerli:\", web3.isConnected())"
   ]
  },
  {
   "cell_type": "markdown",
   "id": "7b6b20f7",
   "metadata": {},
   "source": [
    "#### Task 3.1\n",
    "1. Checking block height at any time."
   ]
  },
  {
   "cell_type": "code",
   "execution_count": 24,
   "id": "cbfac281",
   "metadata": {},
   "outputs": [
    {
     "data": {
      "text/plain": [
       "7797474"
      ]
     },
     "execution_count": 24,
     "metadata": {},
     "output_type": "execute_result"
    }
   ],
   "source": [
    "def check_block_height(web3):\n",
    "    block = web3.eth.get_block('latest')\n",
    "    return block[\"number\"]\n",
    "\n",
    "check_block_height(web3)"
   ]
  },
  {
   "cell_type": "markdown",
   "id": "92fd511a",
   "metadata": {},
   "source": [
    "#### Task 3.2\n",
    "2. Getting information about a block."
   ]
  },
  {
   "cell_type": "code",
   "execution_count": 116,
   "id": "b6c79f8b",
   "metadata": {},
   "outputs": [
    {
     "data": {
      "text/plain": [
       "AttributeDict({'baseFeePerGas': 31511378784,\n",
       " 'difficulty': 0,\n",
       " 'extraData': HexBytes('0x'),\n",
       " 'gasLimit': 30000000,\n",
       " 'gasUsed': 15533172,\n",
       " 'hash': HexBytes('0xd00e0b89c8a42d76259c383396b349a005e98514b2f253148d964b45e94cd653'),\n",
       " 'logsBloom': HexBytes('0x132018410080882c0080403ea0408261001865c1302978b20ca108000a20943484084308064102005020494141e70080084a1810010092419002d68700a42470084d6121c438808a2b4049880809d03000808849227691042812a300c2a00800226698800a0000840040028080000c102e021c500550442022a2191090800888c800418e3e00600472430801419c0022408a06892a29800c010a48e01522045417058980402243190008293040858102a0907541000780000031000b0124a8251861d813120608082c1000709804b43409800024218a0a3c104141a6086864209c1f314820c2424001112039244000020448101c9000404100608ce011012313'),\n",
       " 'miner': '0xf97e180c050e5Ab072211Ad2C213Eb5AEE4DF134',\n",
       " 'mixHash': HexBytes('0x7e54c90cd2a28606300234057d06fd714f4bd7ce6a21204900b79b73196f0740'),\n",
       " 'nonce': HexBytes('0x0000000000000000'),\n",
       " 'number': 7797860,\n",
       " 'parentHash': HexBytes('0xf5196893f20b92e09f85e47fa43a286ec73876a4d9b49c8034398a6f545a9951'),\n",
       " 'receiptsRoot': HexBytes('0x5976d1994729014960a8f82442edf326f9374a85d423679a4d9fa3100732b483'),\n",
       " 'sha3Uncles': HexBytes('0x1dcc4de8dec75d7aab85b567b6ccd41ad312451b948a7413f0a142fd40d49347'),\n",
       " 'size': 57469,\n",
       " 'stateRoot': HexBytes('0x9fe882c11451a58fecce75b3c19eb58cbfba52b4b3cfabada88cf186b9d5b0f1'),\n",
       " 'timestamp': 1666198992,\n",
       " 'totalDifficulty': 10790000,\n",
       " 'transactions': [HexBytes('0x14b091cde4420d6f30e3ab0286ddb567c09fdc0269b55c346715f7fb38c2fc7d'),\n",
       "  HexBytes('0x125a225a7501bbf3a58378cdc0e953550fb1b3303c398f6d6b7216958434224e'),\n",
       "  HexBytes('0x8ef4bd32a075e87fcf5b912b025509a40e4b167a17e24421e374ee24068420c4'),\n",
       "  HexBytes('0xca20b70f7a8b17059a981b3b9567d24e30f5cd4331ab49fc828a357031bff243'),\n",
       "  HexBytes('0x796a4d43c9f6e20f8c4b489ee36794e3273c31b804f2a7ebd5412d05a4decd71'),\n",
       "  HexBytes('0x39286d8eb42f8cab95cd89c5a246131ae7aef2d3baee5e4ada96225b60dd6745'),\n",
       "  HexBytes('0xfbd261178cad68b8f133515f3b88f5204cda73a929c965dd6913183d7e421f83'),\n",
       "  HexBytes('0xbb982427e6efee0d44343536a72d872a828a536ffb97972f9eb502f6991bff86'),\n",
       "  HexBytes('0x46b229c1add8dd9a2096399875feaca26cb9156958ad2f0a3df1febe07094092'),\n",
       "  HexBytes('0xbdee33ac956d15971c648c6a84a13a378b47906d1b23a15ec84ba053bf3b9ca8'),\n",
       "  HexBytes('0x4844e0f07f8259e88fc38eae293dfa927370c3efc03617664e47fe28d49cc82e'),\n",
       "  HexBytes('0xcede716e098ed3e57b51850ac4660ca8ab569a7fcf9d10e151111ed296bee24f'),\n",
       "  HexBytes('0x07009df6abb37ac23423577c37fc2a50100ee25426e6155141e29ef0789688bf'),\n",
       "  HexBytes('0x763909822ba45d8783de51052589e1a2724af00b3140209672491d2ef8753c7a'),\n",
       "  HexBytes('0x8b8522203c4683304f6b22c5a78b10f2b7907ea6726c450b00a527fd8c8de0bc'),\n",
       "  HexBytes('0xb31e6b82aa13336458a8b940e0f78d6643a9a2718f4f1d700f83ea01c01ffc91'),\n",
       "  HexBytes('0x58a43469bc1fb0c4e41ba151f2d697beece0ed7f9434485edc90a5f85971f343'),\n",
       "  HexBytes('0x016ba528d49419807ca0f04c3a73d31815b4b04a16991532e9a97f2f7a41213f'),\n",
       "  HexBytes('0xdad1ad6ac230f43317ca136d91ac816f6739c9af1598c1a628b98088b33af88a'),\n",
       "  HexBytes('0x0049c6f798105e65ad71daa46dba4db3f90b931c02794774ed68cb0cd36e5597'),\n",
       "  HexBytes('0xa4d62d3460b4cbc3625ec341763d774c290bd05659b57de4ef558b573956721c'),\n",
       "  HexBytes('0x58571fae78586622a39121e816d8ce25c5a0afb4d032d3c57855fe0ff33f9b7b'),\n",
       "  HexBytes('0x1d9b047c296f7904f21023f4730fbc317f4f5c16494d647ab4aa8a2ef38af25d'),\n",
       "  HexBytes('0x6e537e6ccd69a26fea6b47c9b191a9ad62618b07bbdcee255af22a2791f9d911'),\n",
       "  HexBytes('0x84ce523ef1627d7cf9a3c71ad59c61a4fb261ae17d66f078dff7888f51fb7f1e'),\n",
       "  HexBytes('0x3a0a17e322c2c4e883821a7b982e51fd053180f9b6531c6aab7b80946d92c7ba'),\n",
       "  HexBytes('0xdb7c4ca63899c2a67c33880a397a16635af9c3172994e648f04cade4ebad25d7'),\n",
       "  HexBytes('0x2b7766e9c446da9ab80ca7c7edfd3d42ce0bd7d080d99379eac17147c3438dae'),\n",
       "  HexBytes('0x070e8e55f9b499b3d6094e506a6d5ff54e7cefe6c516e317d4ea846c9f843404'),\n",
       "  HexBytes('0x469e37de94d6017b27483368ce73240ffa165129cee837375190debdd8dc032e'),\n",
       "  HexBytes('0x2ea7e36593c1e0b4248c9f847959fb84f0ac08c392cd3b257dd0ef0af35bd1bc'),\n",
       "  HexBytes('0xc23fc27524d2271fa3fde409561539c64e20874a3839ea120635365e3b61733c'),\n",
       "  HexBytes('0x1d77a7d8f36cfe03600c61827e58d6e18a538b493b38c979de745dea207fa878'),\n",
       "  HexBytes('0x9c639c7386b60718a82c62a929341ef81a65aa79041ce81d7a6c1808bf8222c1'),\n",
       "  HexBytes('0xc6ffac5374394a2402ee2595bb530c08dae47ebf4de838c3c8f146ea2af3af45'),\n",
       "  HexBytes('0x6beb0ac51a2c8dbfcb3ae1e40af46e35579d31c8326b38b9cf98144b4e96930c'),\n",
       "  HexBytes('0x16a6fe62a16ede9afa3d13239fa6de25139baa2b5f5ca7d9108fb4bc8e9ae017'),\n",
       "  HexBytes('0xb03bf826aa1c64a8fc826e053f4f42720e2028d9d78550e4269392790bc42352'),\n",
       "  HexBytes('0x04dab7b0683dbaca176a1dcab1473bc7b47b711e9de424bc1ed0caeadbd193dd'),\n",
       "  HexBytes('0xc767600a29b0358bb3100388a3fd58b200a0262ca28593a9c185c172204ff4a8'),\n",
       "  HexBytes('0xc3651403d5911136a89c334962acf63f2892fb9e2b2d172b97b543e28a4eb28d'),\n",
       "  HexBytes('0xc0f942113b39d6c98940183433a9ed831fd71055a4531bba05b246e853703c0e'),\n",
       "  HexBytes('0x0245fac9e5ccf79191688913ccdd1f73ef864011e6daca0386579a33b5224731'),\n",
       "  HexBytes('0x02f6e08ea01eebe262c7d0c61381f8b87cff18c875ef3d6fefe635db30b5c4ce'),\n",
       "  HexBytes('0x3a29d7d00f657f4af1d9162622d7b70a13699c71af3ac0d1628262eacbb921f8'),\n",
       "  HexBytes('0x3fd5f223dea13883840a31ae87d147d7faefce1111c522e0806011adc9d2c5da'),\n",
       "  HexBytes('0x42eb0e28d024ff6a3dddc7afcb33fccc59d0f20bee34468d24432f58171a8a66'),\n",
       "  HexBytes('0xdb0956ccd3002998cad0c59cf9148be1ca8bf5f20f55824db8cc40971acb531f'),\n",
       "  HexBytes('0xb125c10aea5ee7671a23c106f8b91a01b97b62d78ce70eb6fc6ebd421dd3b708'),\n",
       "  HexBytes('0xf0abed9cd8dc8dc3557c16893b68cf15882ebcdc54dc164f8e087d0cd4b2fdb9'),\n",
       "  HexBytes('0x15fed18e2ba449807dd862d15baefa58903cfe66c11010d778b3f57e02a9a166'),\n",
       "  HexBytes('0x6d7a32c9b0f5c5005d694d061006b5e9eaea2142eb089c838c1ebd27d844fdb5'),\n",
       "  HexBytes('0x8889f8900a5f825b0d23ef3065974715975eb176b1496da649ad8e7fa04d504a'),\n",
       "  HexBytes('0x2c8decb5001bdd339ec99eea9942c9e95567e69e93b8fd24de63c63d599a4d79'),\n",
       "  HexBytes('0x86350d01e2fd5e9ac8c835ae27ea89a4adbdc296719b3f11f5afaf01ebbbe22b'),\n",
       "  HexBytes('0x20d98f7487f8f6eb2a6a2f4b0e2d935160e0494b2b15ddb55d491cb7686f4905'),\n",
       "  HexBytes('0x0be95b5785733955f8091dd2e7f8c6d002c8b70c38a6de2d1cd1fa8f052ce33a'),\n",
       "  HexBytes('0x4a19fa9bf229c05fdfde8b789399e3f687e4d21329ebf6e68fd16e93f92fdda1'),\n",
       "  HexBytes('0x0b10da4b9bc9dcea060fb2ef94d835a6eb805b14d2b16e13da712d3a7bd01c69'),\n",
       "  HexBytes('0x16cf2612c5b484bb064e1d54678edffd7c10c7dae1fa1cde31493c06492d8748'),\n",
       "  HexBytes('0x520225c6ad9a71fb7c0b18dec737c31e1e36b777b8022768a20be110ab3c63f6'),\n",
       "  HexBytes('0xd6a80d9354313ac8bc8832c528e6e44cee6b929bb9f121e5c07d4a98406ce7bf'),\n",
       "  HexBytes('0x6d3fcf391ba734c20965a8ace2767325010501d04954a8b7bfd8b9703b4b31e6'),\n",
       "  HexBytes('0x9e2e5e272fe7ae56ee43ac05e88b88f87ec94a21e4cb8e5a751dc0d10e261a12'),\n",
       "  HexBytes('0xc3d7a9158822806ba37b0ea038567e519b4db9c7f6eb759fee068395b55c6147'),\n",
       "  HexBytes('0x424f15a3fd644f7440c5f3822aebdf86e4b2ccfd54c88fcade62cb1774d8e445'),\n",
       "  HexBytes('0x979dfb21c126f3b3ca80955b62bc8d73bd1094cfa988333f905a6b0518d3f4b4'),\n",
       "  HexBytes('0x5947ec6f003c086d289a5f4008fc1471ee6da7e581275947b619381cae30b46f'),\n",
       "  HexBytes('0xc2d4b8a6a62e66bf0cb28db885605471ade776699910b9ff4d5c657d57fd3d63'),\n",
       "  HexBytes('0x6a0730fa584266b932d4d3db3845d3735e643e1d3ea3e7e98594f9a43fc96d55'),\n",
       "  HexBytes('0x86c932f5a76fa44bd7a7607a55ab00f23c5266739fe97311486da0ac6633139d'),\n",
       "  HexBytes('0xbd6540860ee8771c5b878c13605d263f24dbdf07a5d633878c9211a6559f7e9e'),\n",
       "  HexBytes('0xf3d4069c1f79c83c7491b1a621d80a65b102a60eca605a4ce230820ac19d0ff4'),\n",
       "  HexBytes('0x081747b659d0d49475f9d67db8bb060fe1c295ddf20e23b5cc7f3e85e67c2f48'),\n",
       "  HexBytes('0x6b0f07f24331dd3b39de45ec62412b6d7796569bbdc8c76d3b6f81f878c691f4'),\n",
       "  HexBytes('0x9c3a8127696509caa2cdabdcc91275d7ab305ef04f54576f1808f6f15346488a'),\n",
       "  HexBytes('0x3872b89e4e80b0749ea8ae7822bf81faf3ac857202fe85b94c240df8a5b22ecb'),\n",
       "  HexBytes('0xece38d363509ab64b0c5cdcbd08d783592f13ddd34ebf5a8c6ebac5ace66e312'),\n",
       "  HexBytes('0x951620d28abbb52ccee1303137efd1be18ef62458b3f788075f6b34cfb6b4d4e'),\n",
       "  HexBytes('0xba4ff3d0c7fa7f29b1402c5e3a06fe8015e401fc656191c1c14ef1a96cda001e'),\n",
       "  HexBytes('0xe8afbc4a9acddcddb4b872b5e3a679b06e9f3b3d8478082d7b8d5c7656592b8d'),\n",
       "  HexBytes('0x7d088828e386ab65ad411b674b11897dbc6a785ab0e926cd0af8a68f3f13ae3f'),\n",
       "  HexBytes('0x0b6d468ded80c4d5f9934d882e46943c4cc97a0220478b35bbb4e03aa4f4e506'),\n",
       "  HexBytes('0x89cbfc828d887804806d14238a17f0938f6cc7e67b56ec7129228dff18f774b5'),\n",
       "  HexBytes('0x91447c2e0a524fca9599396f5d7aa9fa6727a09348718bfaa0139194055a67f0'),\n",
       "  HexBytes('0x4fee6c48cf8b07142733a4c160741c33de81f95330b2f2e3ea4c883b7eda88ee'),\n",
       "  HexBytes('0x1e033d447aa4cae14f017b146f2810b62f7187a385f2957ae5c2de724617f5ba'),\n",
       "  HexBytes('0x4d765782b3d6963cf98e2b530650cfc4be1a6ef73c1cd9a9dbf2cffc92843f3a'),\n",
       "  HexBytes('0xb7349e8c4922d443a7601c08bb4baf61e7d535b849cb50863961ea410b006dd8'),\n",
       "  HexBytes('0xd49ef5dbce82df1a11c22673e0877d9d6634c87a126f53e47fa8c9140cb78369'),\n",
       "  HexBytes('0x098454afb3144a53706c68511be0b21bf1642daae2180feecf9dba1043af278b'),\n",
       "  HexBytes('0xfaae702010110fe5b170377a92af6480db81263c6765e5590e08b45055e2a532'),\n",
       "  HexBytes('0x0a98f29578b095253940000dbb53daa8b9338a67c2604150293bc43b330789d5'),\n",
       "  HexBytes('0x02a1793ff2750346082ef7d5dd875f49f9df68cdf91c352f9efee09d320ac74d'),\n",
       "  HexBytes('0x6df61381c9e426fe455ce19547dad742af8a49f3e060eacf20fb94ca1c4d406f'),\n",
       "  HexBytes('0xfbb3d9bf11d74c2509423a2935f0f9493cca5539222a7b6afc85dd686eb5fbad')],\n",
       " 'transactionsRoot': HexBytes('0x261b3fe011951ec1fc5ebbc0bf2de641ce0385a31b79426248b4536263fc8608'),\n",
       " 'uncles': []})"
      ]
     },
     "execution_count": 116,
     "metadata": {},
     "output_type": "execute_result"
    }
   ],
   "source": [
    "def get_block_info(web3, block_number):\n",
    "    return web3.eth.get_block(block_number)\n",
    "\n",
    "get_block_info(web3, 'latest')"
   ]
  },
  {
   "cell_type": "markdown",
   "id": "6eed12fb",
   "metadata": {},
   "source": [
    "#### Task 3.3\n",
    "3. Get balance information of your address_1."
   ]
  },
  {
   "cell_type": "code",
   "execution_count": 128,
   "id": "37af045d",
   "metadata": {},
   "outputs": [
    {
     "name": "stdout",
     "output_type": "stream",
     "text": [
      "Balance: 351220000000000000\n"
     ]
    }
   ],
   "source": [
    "def get_balance(web3, address):\n",
    "    balance = web3.eth.getBalance(address)\n",
    "    return balance\n",
    "\n",
    "print(\"Balance:\", get_balance(web3, \"0x742d35Cc6634C0532925a3b844Bc454e4438f44e\"))"
   ]
  },
  {
   "cell_type": "markdown",
   "id": "9797bf93",
   "metadata": {},
   "source": [
    "#### Task 3.4\n",
    "4. From Task 3.3. convert the balance to ether."
   ]
  },
  {
   "cell_type": "code",
   "execution_count": 129,
   "id": "ec0b8ffe",
   "metadata": {},
   "outputs": [
    {
     "name": "stdout",
     "output_type": "stream",
     "text": [
      "1.66442661758210597167106925553525798022747039794921875E-19 Ethers\n"
     ]
    }
   ],
   "source": [
    "def get_balance_ethers(web3, address):\n",
    "    balance = web3.eth.get_balance(address) / 1e18\n",
    "    return web3.fromWei(balance, 'ether')\n",
    "\n",
    "print(get_balance_ethers(web3, address_1),'Ethers')"
   ]
  },
  {
   "cell_type": "markdown",
   "id": "44c097b3",
   "metadata": {},
   "source": [
    "## Task 4\n",
    "4. (1 point) Send some Eth test coins from address_1 to address_2 and provide Transaction_ID."
   ]
  },
  {
   "cell_type": "code",
   "execution_count": 123,
   "id": "d53bc1ff",
   "metadata": {},
   "outputs": [
    {
     "name": "stdout",
     "output_type": "stream",
     "text": [
      "Address 1 balance: 1.76862661758210581997019517075386829674243927001953125E-19\n",
      "Address 2 balance: 1.1000000000000000055511151231257827021181583404541015625E-19\n"
     ]
    }
   ],
   "source": [
    "# balance before \n",
    "print(f'Address 1 balance: {get_balance_ethers(web3, address_1)}')\n",
    "print(f'Address 2 balance: {get_balance_ethers(web3, address_2)}')"
   ]
  },
  {
   "cell_type": "code",
   "execution_count": 108,
   "id": "809f7782",
   "metadata": {},
   "outputs": [
    {
     "data": {
      "text/plain": [
       "21000"
      ]
     },
     "execution_count": 108,
     "metadata": {},
     "output_type": "execute_result"
    }
   ],
   "source": [
    "web3.eth.estimate_gas({\n",
    "    'from': address_1, \n",
    "    'to': address_2, \n",
    "    'value': web3.toWei(0.01,'ether'),\n",
    "})"
   ]
  },
  {
   "cell_type": "code",
   "execution_count": 109,
   "id": "d5c799f0",
   "metadata": {},
   "outputs": [
    {
     "data": {
      "text/plain": [
       "28094571986"
      ]
     },
     "execution_count": 109,
     "metadata": {},
     "output_type": "execute_result"
    }
   ],
   "source": [
    "web3.eth.gas_price"
   ]
  },
  {
   "cell_type": "code",
   "execution_count": 125,
   "id": "e754ee41",
   "metadata": {},
   "outputs": [],
   "source": [
    "tx = {\n",
    "    'nonce': web3.eth.getTransactionCount(address_1),\n",
    "    'from': address_1,\n",
    "    'to': address_2,\n",
    "    'value': web3.toWei(0.01,'ether'),\n",
    "    'gas': 21000,\n",
    "    'gasPrice':web3.toWei('20','gwei')\n",
    "}\n",
    "\n",
    "signed_tx = web3.eth.account.signTransaction(tx, private_key_1)"
   ]
  },
  {
   "cell_type": "code",
   "execution_count": 126,
   "id": "2e037e5c",
   "metadata": {},
   "outputs": [
    {
     "name": "stdout",
     "output_type": "stream",
     "text": [
      "0x0562a694152a526767bdf56278a3280b529ea79d8b4d3727ea431118cd488930\n"
     ]
    }
   ],
   "source": [
    "tx_hash = web3.eth.sendRawTransaction(signed_tx[\"rawTransaction\"]).hex()\n",
    "print(tx_hash)"
   ]
  },
  {
   "cell_type": "code",
   "execution_count": 127,
   "id": "87f5e387",
   "metadata": {},
   "outputs": [
    {
     "name": "stdout",
     "output_type": "stream",
     "text": [
      "https://goerli.etherscan.io/tx/0x0562a694152a526767bdf56278a3280b529ea79d8b4d3727ea431118cd488930\n"
     ]
    }
   ],
   "source": [
    "link = 'https://goerli.etherscan.io/tx/' + tx_hash\n",
    "print(link)"
   ]
  },
  {
   "cell_type": "code",
   "execution_count": 130,
   "id": "734b3587",
   "metadata": {},
   "outputs": [
    {
     "name": "stdout",
     "output_type": "stream",
     "text": [
      "Address 1 balance: 1.66442661758210597167106925553525798022747039794921875E-19\n",
      "Address 2 balance: 1.1999999999999999555910790149937383830547332763671875E-19\n"
     ]
    }
   ],
   "source": [
    "# balance after\n",
    "print(f'Address 1 balance: {get_balance_ethers(web3, address_1)}')\n",
    "print(f'Address 2 balance: {get_balance_ethers(web3, address_2)}')"
   ]
  },
  {
   "cell_type": "markdown",
   "id": "0dde76cb",
   "metadata": {},
   "source": [
    "## Task 5\n",
    "5. Create a smart contract to add 2 numbers"
   ]
  },
  {
   "cell_type": "markdown",
   "id": "8d090c60",
   "metadata": {},
   "source": [
    "Contract deployment: https://goerli.etherscan.io/tx/0xd6575ec14e4bc82a9cf9bde063e7bd7ac54eed8a9835a9a6acf95baf8d8d9eac"
   ]
  },
  {
   "cell_type": "code",
   "execution_count": null,
   "id": "6008ca25",
   "metadata": {},
   "outputs": [],
   "source": [
    "'''\n",
    "//SPDX-License-Identifier: MIT\n",
    "pragma solidity ^0.8.10;\n",
    "\n",
    "import \"hardhat/console.sol\";\n",
    "\n",
    "contract Sum {\n",
    "   \n",
    "    uint256 public sum = 0;\n",
    "\n",
    "    function add(uint256 _fstNum, uint256 _sndNum) public\n",
    "    {\n",
    "        sum = _fstNum + _sndNum;\n",
    "    }\n",
    "}\n",
    "    \n",
    "'''"
   ]
  },
  {
   "cell_type": "markdown",
   "id": "21525cfd",
   "metadata": {},
   "source": [
    "Calling the function: https://goerli.etherscan.io/tx/0xf2fdeafe109f6bbeb6851416771a36abb09fe3c5323fbd12796e640299dca820"
   ]
  },
  {
   "cell_type": "markdown",
   "id": "630bc1f3",
   "metadata": {},
   "source": [
    "## Task 6\n",
    "\n",
    "6. (3 points) Create an ERC20 smart contract"
   ]
  },
  {
   "cell_type": "code",
   "execution_count": null,
   "id": "76ab447d",
   "metadata": {},
   "outputs": [],
   "source": [
    "'''\n",
    "// SPDX-License-Identifier: MIT\n",
    "pragma solidity ^0.8.4;\n",
    "\n",
    "import \"@openzeppelin/contracts/token/ERC20/ERC20.sol\";\n",
    "\n",
    "contract MyToken is ERC20 {\n",
    "    constructor() ERC20(\"MyToken\", \"MTK\") {\n",
    "        _mint(msg.sender, 100);\n",
    "    }\n",
    "}\n",
    "'''"
   ]
  },
  {
   "cell_type": "markdown",
   "id": "9dfb6ae2",
   "metadata": {},
   "source": [
    "Contract deployment: https://goerli.etherscan.io/tx/0x922b7eb9c34f38ee3cf05c512b85ed9dbf5a0c91f9bf3ab79e5150695481c257\n",
    "\n",
    "Address_2 (from): 0x68ff5fb51946fb58352e64a4d8a057568c4b21d2\n",
    "\n",
    "Token name: \"MyToken\"\n",
    "\n",
    "Token symbol: \"MTK\""
   ]
  },
  {
   "cell_type": "markdown",
   "id": "e3b43add",
   "metadata": {},
   "source": [
    "Send ten tokens to 0x7F0623b3Ed830BF5e7CE54A8a3cE7676779522F9 address:\n",
    "\n",
    "https://goerli.etherscan.io/tx/0xa18f8b08eb4fe7cc4df8429a850042bdb25490182f65be2cbd9319f5b399f508"
   ]
  }
 ],
 "metadata": {
  "kernelspec": {
   "display_name": "Python 3 (ipykernel)",
   "language": "python",
   "name": "python3"
  },
  "language_info": {
   "codemirror_mode": {
    "name": "ipython",
    "version": 3
   },
   "file_extension": ".py",
   "mimetype": "text/x-python",
   "name": "python",
   "nbconvert_exporter": "python",
   "pygments_lexer": "ipython3",
   "version": "3.8.9"
  }
 },
 "nbformat": 4,
 "nbformat_minor": 5
}
